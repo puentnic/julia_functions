{
 "cells": [
  {
   "cell_type": "code",
   "execution_count": 1,
   "metadata": {},
   "outputs": [],
   "source": [
    "using FFTW\n",
    "using BenchmarkTools"
   ]
  },
  {
   "cell_type": "code",
   "execution_count": 2,
   "metadata": {},
   "outputs": [
    {
     "data": {
      "text/plain": [
       "fft_1dgpt (generic function with 3 methods)"
      ]
     },
     "metadata": {},
     "output_type": "display_data"
    }
   ],
   "source": [
    "\n",
    "function fft_1dgpt(x::AbstractVector{Complex{T}}) where T<:AbstractFloat\n",
    "    N = length(x)\n",
    "    @assert ispow2(N) \"Length must be a power of 2\"\n",
    "    # Make a working copy\n",
    "    y = copy(x)\n",
    "\n",
    "    # 1) Bit‑reversal permutation\n",
    "    bits = Int(floor(log2(N)))\n",
    "    for i in 0:(N-1)\n",
    "        j = bitreverse(i) >>> (sizeof(Int)*8 - bits)\n",
    "        if j > i\n",
    "            y[i+1], y[j+1] = y[j+1], y[i+1]\n",
    "        end\n",
    "    end\n",
    "\n",
    "    # 2) Cooley‑Tuk decimation‑in‑place\n",
    "    m = 1\n",
    "    while m < N\n",
    "        half = m\n",
    "        m *= 2\n",
    "        # principal m‑th root of unity: exp(-2πi/m)\n",
    "        wm = cis(-2π/m)\n",
    "        for k in 1:m:N\n",
    "            w = one(wm)\n",
    "            for j in 0:(half-1)\n",
    "                u = y[k + j]\n",
    "                t = w * y[k + j + half]\n",
    "                y[k + j]          = u + t\n",
    "                y[k + j + half]   = u - t\n",
    "                w *= wm\n",
    "            end\n",
    "        end\n",
    "    end\n",
    "\n",
    "    return y\n",
    "end\n",
    "function fft_1dgpt(x::AbstractVector{T}) where T<:AbstractFloat\n",
    "    return fft_1dgpt(complex.(x))\n",
    "end\n",
    "\n",
    "function fft_1dgpt(x) \n",
    "    N = length(x)\n",
    "    @assert ispow2(N) \"Length must be a power of 2\"\n",
    "    # Make a working copy\n",
    "    y = copy(x)\n",
    "\n",
    "    # 1) Bit‑reversal permutation\n",
    "    bits = Int(floor(log2(N)))\n",
    "    for i in 0:(N-1)\n",
    "        j = bitreverse(i) >>> (sizeof(Int)*8 - bits)\n",
    "        if j > i\n",
    "            y[i+1], y[j+1] = y[j+1], y[i+1]\n",
    "        end\n",
    "    end\n",
    "\n",
    "    # 2) Cooley‑Tuk decimation‑in‑place\n",
    "    m = 1\n",
    "    while m < N\n",
    "        half = m\n",
    "        m *= 2\n",
    "        # principal m‑th root of unity: exp(-2πi/m)\n",
    "        wm = cis(-2π/m)\n",
    "        for k in 1:m:N\n",
    "            w = one(wm)\n",
    "            for j in 0:(half-1)\n",
    "                u = y[k + j]\n",
    "                t = w * y[k + j + half]\n",
    "                y[k + j]          = u + t\n",
    "                y[k + j + half]   = u - t\n",
    "                w *= wm\n",
    "            end\n",
    "        end\n",
    "    end\n",
    "\n",
    "    return y\n",
    "end"
   ]
  },
  {
   "cell_type": "code",
   "execution_count": 21,
   "metadata": {},
   "outputs": [
    {
     "data": {
      "text/plain": [
       "fft_1dgpt!"
      ]
     },
     "metadata": {},
     "output_type": "display_data"
    }
   ],
   "source": [
    "\"\"\"\n",
    "    fft_1dgpt_real!(x_re, x_im)\n",
    "\n",
    "In-place FFT on two real-valued vectors `x_re`, `x_im`.\n",
    "Both must be the same length `N` (a power of two).\n",
    "The input in `x_im` is usually all zeros (for real input).\n",
    "After this call, `x_re` and `x_im` hold the real and imaginary parts\n",
    "of the FFT, suitable for use in JuMP @NLobjective.\n",
    "\"\"\"\n",
    "function fft_1dgpt!(x_re::AbstractVector{T}, x_im::AbstractVector{T}) where {T<:AbstractFloat}\n",
    "    N = length(x_re)\n",
    "    @assert N == length(x_im) \"re/im must match length\"\n",
    "    @assert ispow2(N) \"Length must be a power of two\"\n",
    "\n",
    "    # Bit‑reversal on both real & imag\n",
    "    bits = Int(floor(log2(N)))\n",
    "    @inbounds for i in 0:N-1\n",
    "        j = bitreverse(i) >>> (sizeof(Int)*8 - bits)\n",
    "        if j > i\n",
    "            x_re[i+1], x_re[j+1] = x_re[j+1], x_re[i+1]\n",
    "            x_im[i+1], x_im[j+1] = x_im[j+1], x_im[i+1]\n",
    "        end\n",
    "    end\n",
    "\n",
    "    # Cooley‑Tuk stages\n",
    "    m = 1\n",
    "    while m < N\n",
    "        half = m\n",
    "        m *= 2\n",
    "        θ = -2π / m\n",
    "        @inbounds for j in 0:half-1\n",
    "            c = cos(θ*j)     # real constant :contentReference[oaicite:8]{index=8}\n",
    "            s = sin(θ*j)\n",
    "            for k in j:m:N-1\n",
    "                u = k + 1\n",
    "                v = k + half + 1\n",
    "                u_re, u_im = x_re[u], x_im[u]\n",
    "                v_re, v_im = x_re[v], x_im[v]\n",
    "\n",
    "                # complex multiply (v * cis(θ*j)) in real form\n",
    "                t_re =  c*v_re - s*v_im\n",
    "                t_im =  s*v_re + c*v_im\n",
    "\n",
    "                # butterfly\n",
    "                x_re[u] = u_re + t_re\n",
    "                x_im[u] = u_im + t_im\n",
    "                x_re[v] = u_re - t_re\n",
    "                x_im[v] = u_im - t_im\n",
    "            end\n",
    "        end\n",
    "    end\n",
    "\n",
    "    return nothing\n",
    "end\n"
   ]
  },
  {
   "cell_type": "code",
   "execution_count": null,
   "metadata": {},
   "outputs": [],
   "source": []
  },
  {
   "cell_type": "code",
   "execution_count": 4,
   "metadata": {},
   "outputs": [
    {
     "data": {
      "text/plain": [
       "fft_2dcustom (generic function with 2 methods)"
      ]
     },
     "metadata": {},
     "output_type": "display_data"
    }
   ],
   "source": [
    "function fft_2dcustom(A::AbstractMatrix{Complex{T}}) where T<:AbstractFloat\n",
    "    Ny, Nx = size(A)\n",
    "    @assert ispow2(Ny) && ispow2(Nx) \"Both dimensions must be powers of 2\"\n",
    "    B = similar(A)\n",
    "\n",
    "    # 1) FFT down each column\n",
    "    @inbounds @simd for x in 1:Nx\n",
    "        B[:, x] = fft_1dgpt(view(A, :, x))\n",
    "    end\n",
    "\n",
    "    # 2) FFT across each row of the intermediate result\n",
    "    @inbounds @simd for y in 1:Ny\n",
    "        B[y, :] = fft_1dgpt(view(B, y, :))\n",
    "    end\n",
    "\n",
    "    return B\n",
    "end\n",
    "\n",
    "function fft_2dcustom(A::AbstractMatrix{T}) where T<:AbstractFloat\n",
    "    return fft_2dcustom(Complex{T}.(A))\n",
    "end"
   ]
  },
  {
   "cell_type": "code",
   "execution_count": null,
   "metadata": {},
   "outputs": [
    {
     "data": {
      "text/plain": [
       "ifftshift_custom! (generic function with 2 methods)"
      ]
     },
     "metadata": {},
     "output_type": "display_data"
    }
   ],
   "source": [
    "function fftshift_custom!(dest::AbstractArray,x::AbstractArray)\n",
    "    # Calculate the shift amount for each dimension\n",
    "    shifts = map(s -> div(s, 2), size(x))\n",
    "    circshift!(dest,x, shifts)    \n",
    "    return nothing\n",
    "end\n",
    "\n",
    "# Inverse operation\n",
    "function ifftshift_custom!(dest::AbstractArray,x::AbstractArray)\n",
    "    shifts = map(s -> -div(s, 2), size(x))\n",
    "    circshift!(dest, x, shifts)\n",
    "    return nothing\n",
    "end"
   ]
  },
  {
   "cell_type": "code",
   "execution_count": 5,
   "metadata": {},
   "outputs": [],
   "source": [
    "A = rand(1024, 1024) + im * rand(1024, 1024)\n",
    "B = rand(1024, 1024);"
   ]
  },
  {
   "cell_type": "code",
   "execution_count": 6,
   "metadata": {},
   "outputs": [],
   "source": [
    "A_fft_custom = fft_2dcustom(A)\n",
    "B_fft_custom = fft_2dcustom(B)\n",
    "A_fft_fftw = fft(A)\n",
    "B_fft_fftw = fft(B)\n",
    "@assert A_fft_custom ≈ A_fft_fftw\n",
    "@assert B_fft_custom ≈ B_fft_fftw"
   ]
  },
  {
   "cell_type": "code",
   "execution_count": 26,
   "metadata": {},
   "outputs": [
    {
     "data": {
      "text/html": [
       "# 11 methods for generic function <b>circshift!</b> from \u001b[90mBase\u001b[39m:<ul><li> circshift!(dest::<b>BitVector</b>, src::<b>BitVector</b>, i::<b>Integer</b>) in Base at <a href=\"https://github.com/JuliaLang/julia/tree/5e9a32e7af2837e677e60543d4a15faa8d3a7297/base/bitarray.jl#L1423\" target=\"_blank\">bitarray.jl:1423</a></li> <li> circshift!(B::<b>BitVector</b>, i::<b>Integer</b>) in Base at <a href=\"https://github.com/JuliaLang/julia/tree/5e9a32e7af2837e677e60543d4a15faa8d3a7297/base/bitarray.jl#L1442\" target=\"_blank\">bitarray.jl:1442</a></li> <li> circshift!(O::<b>SparseArrays.SparseVector</b>, X::<b>SparseArrays.SparseVector</b>, ::<b>Tuple{Integer}</b>) in SparseArrays at <a href=\"file:///cache/build/tester-amdci5-12/julialang/julia-release-1-dot-11/usr/share/julia/stdlib/v1.11/SparseArrays/src/sparsevector.jl\" target=\"_blank\">/opt/julia-1.11.2/share/julia/stdlib/v1.11/SparseArrays/src/sparsevector.jl:2409</a></li> <li> circshift!(O::<b>SparseArrays.SparseVector</b>, X::<b>SparseArrays.SparseVector</b>, r::<b>Real</b>) in SparseArrays at <a href=\"file:///cache/build/tester-amdci5-12/julialang/julia-release-1-dot-11/usr/share/julia/stdlib/v1.11/SparseArrays/src/sparsevector.jl\" target=\"_blank\">/opt/julia-1.11.2/share/julia/stdlib/v1.11/SparseArrays/src/sparsevector.jl:2415</a></li> <li> circshift!(O::<b>SparseArrays.AbstractSparseMatrixCSC</b>, X::<b>SparseArrays.AbstractSparseMatrixCSC</b>, ::<b>Tuple{Integer, Integer}</b>) in SparseArrays at <a href=\"file:///cache/build/tester-amdci5-12/julialang/julia-release-1-dot-11/usr/share/julia/stdlib/v1.11/SparseArrays/src/sparsematrix.jl\" target=\"_blank\">/opt/julia-1.11.2/share/julia/stdlib/v1.11/SparseArrays/src/sparsematrix.jl:4350</a></li> <li> circshift!(O::<b>SparseArrays.AbstractSparseMatrixCSC</b>, X::<b>SparseArrays.AbstractSparseMatrixCSC</b>, ::<b>Tuple{Integer}</b>) in SparseArrays at <a href=\"file:///cache/build/tester-amdci5-12/julialang/julia-release-1-dot-11/usr/share/julia/stdlib/v1.11/SparseArrays/src/sparsematrix.jl\" target=\"_blank\">/opt/julia-1.11.2/share/julia/stdlib/v1.11/SparseArrays/src/sparsematrix.jl:4388</a></li> <li> circshift!(O::<b>SparseArrays.AbstractSparseMatrixCSC</b>, X::<b>SparseArrays.AbstractSparseMatrixCSC</b>, r::<b>Real</b>) in SparseArrays at <a href=\"file:///cache/build/tester-amdci5-12/julialang/julia-release-1-dot-11/usr/share/julia/stdlib/v1.11/SparseArrays/src/sparsematrix.jl\" target=\"_blank\">/opt/julia-1.11.2/share/julia/stdlib/v1.11/SparseArrays/src/sparsematrix.jl:4389</a></li> <li> circshift!(a::<b>AbstractVector</b>, shift::<b>Integer</b>) in Base at <a href=\"https://github.com/JuliaLang/julia/tree/5e9a32e7af2837e677e60543d4a15faa8d3a7297/base/abstractarray.jl#L3658\" target=\"_blank\">abstractarray.jl:3658</a></li> <li> circshift!(dest::<b>AbstractArray</b>, src, ::<b>Tuple{}</b>) in Base at <a href=\"https://github.com/JuliaLang/julia/tree/5e9a32e7af2837e677e60543d4a15faa8d3a7297/base/multidimensional.jl#L1205\" target=\"_blank\">multidimensional.jl:1205</a></li> <li> circshift!(dest::<b>AbstractArray{T, N}</b>, src, shiftamt::<b>NTuple{N, Integer} where N</b>)<i> where {T, N}</i> in Base at <a href=\"https://github.com/JuliaLang/julia/tree/5e9a32e7af2837e677e60543d4a15faa8d3a7297/base/multidimensional.jl#L1216\" target=\"_blank\">multidimensional.jl:1216</a></li> <li> circshift!(dest::<b>AbstractArray</b>, src, shiftamt) in Base at <a href=\"https://github.com/JuliaLang/julia/tree/5e9a32e7af2837e677e60543d4a15faa8d3a7297/base/multidimensional.jl#L1224\" target=\"_blank\">multidimensional.jl:1224</a></li> </ul>"
      ],
      "text/plain": [
       "# 11 methods for generic function \"circshift!\" from \u001b[90mBase\u001b[39m:\n",
       "  [1] circshift!(\u001b[90mdest\u001b[39m::\u001b[1mBitVector\u001b[22m, \u001b[90msrc\u001b[39m::\u001b[1mBitVector\u001b[22m, \u001b[90mi\u001b[39m::\u001b[1mInteger\u001b[22m)\n",
       "\u001b[90m     @\u001b[39m \u001b[90m\u001b[4mbitarray.jl:1423\u001b[24m\u001b[39m\n",
       "  [2] circshift!(\u001b[90mB\u001b[39m::\u001b[1mBitVector\u001b[22m, \u001b[90mi\u001b[39m::\u001b[1mInteger\u001b[22m)\n",
       "\u001b[90m     @\u001b[39m \u001b[90m\u001b[4mbitarray.jl:1442\u001b[24m\u001b[39m\n",
       "  [3] circshift!(\u001b[90mO\u001b[39m::\u001b[1mSparseArrays.SparseVector\u001b[22m, \u001b[90mX\u001b[39m::\u001b[1mSparseArrays.SparseVector\u001b[22m, ::\u001b[1mTuple\u001b[22m\u001b[0m{Integer})\n",
       "\u001b[90m     @\u001b[39m \u001b[35mSparseArrays\u001b[39m \u001b[90m/opt/julia-1.11.2/share/julia/stdlib/v1.11/SparseArrays/src/\u001b[39m\u001b[90m\u001b[4msparsevector.jl:2409\u001b[24m\u001b[39m\n",
       "  [4] circshift!(\u001b[90mO\u001b[39m::\u001b[1mSparseArrays.SparseVector\u001b[22m, \u001b[90mX\u001b[39m::\u001b[1mSparseArrays.SparseVector\u001b[22m, \u001b[90mr\u001b[39m::\u001b[1mReal\u001b[22m)\n",
       "\u001b[90m     @\u001b[39m \u001b[35mSparseArrays\u001b[39m \u001b[90m/opt/julia-1.11.2/share/julia/stdlib/v1.11/SparseArrays/src/\u001b[39m\u001b[90m\u001b[4msparsevector.jl:2415\u001b[24m\u001b[39m\n",
       "  [5] circshift!(\u001b[90mO\u001b[39m::\u001b[1mSparseArrays.AbstractSparseMatrixCSC\u001b[22m, \u001b[90mX\u001b[39m::\u001b[1mSparseArrays.AbstractSparseMatrixCSC\u001b[22m, ::\u001b[1mTuple\u001b[22m\u001b[0m{Integer, Integer})\n",
       "\u001b[90m     @\u001b[39m \u001b[35mSparseArrays\u001b[39m \u001b[90m/opt/julia-1.11.2/share/julia/stdlib/v1.11/SparseArrays/src/\u001b[39m\u001b[90m\u001b[4msparsematrix.jl:4350\u001b[24m\u001b[39m\n",
       "  [6] circshift!(\u001b[90mO\u001b[39m::\u001b[1mSparseArrays.AbstractSparseMatrixCSC\u001b[22m, \u001b[90mX\u001b[39m::\u001b[1mSparseArrays.AbstractSparseMatrixCSC\u001b[22m, ::\u001b[1mTuple\u001b[22m\u001b[0m{Integer})\n",
       "\u001b[90m     @\u001b[39m \u001b[35mSparseArrays\u001b[39m \u001b[90m/opt/julia-1.11.2/share/julia/stdlib/v1.11/SparseArrays/src/\u001b[39m\u001b[90m\u001b[4msparsematrix.jl:4388\u001b[24m\u001b[39m\n",
       "  [7] circshift!(\u001b[90mO\u001b[39m::\u001b[1mSparseArrays.AbstractSparseMatrixCSC\u001b[22m, \u001b[90mX\u001b[39m::\u001b[1mSparseArrays.AbstractSparseMatrixCSC\u001b[22m, \u001b[90mr\u001b[39m::\u001b[1mReal\u001b[22m)\n",
       "\u001b[90m     @\u001b[39m \u001b[35mSparseArrays\u001b[39m \u001b[90m/opt/julia-1.11.2/share/julia/stdlib/v1.11/SparseArrays/src/\u001b[39m\u001b[90m\u001b[4msparsematrix.jl:4389\u001b[24m\u001b[39m\n",
       "  [8] circshift!(\u001b[90ma\u001b[39m::\u001b[1mAbstractVector\u001b[22m, \u001b[90mshift\u001b[39m::\u001b[1mInteger\u001b[22m)\n",
       "\u001b[90m     @\u001b[39m \u001b[90m\u001b[4mabstractarray.jl:3658\u001b[24m\u001b[39m\n",
       "  [9] circshift!(\u001b[90mdest\u001b[39m::\u001b[1mAbstractArray\u001b[22m, \u001b[90msrc\u001b[39m, ::\u001b[1mTuple\u001b[22m\u001b[0m{})\n",
       "\u001b[90m     @\u001b[39m \u001b[90m\u001b[4mmultidimensional.jl:1205\u001b[24m\u001b[39m\n",
       " [10] circshift!(\u001b[90mdest\u001b[39m::\u001b[1mAbstractArray\u001b[22m\u001b[0m{T, N}, \u001b[90msrc\u001b[39m, \u001b[90mshiftamt\u001b[39m::\u001b[1mNTuple\u001b[22m\u001b[0m{N, Integer} where N) where {T, N}\n",
       "\u001b[90m     @\u001b[39m \u001b[90m\u001b[4mmultidimensional.jl:1216\u001b[24m\u001b[39m\n",
       " [11] circshift!(\u001b[90mdest\u001b[39m::\u001b[1mAbstractArray\u001b[22m, \u001b[90msrc\u001b[39m, \u001b[90mshiftamt\u001b[39m)\n",
       "\u001b[90m     @\u001b[39m \u001b[90m\u001b[4mmultidimensional.jl:1224\u001b[24m\u001b[39m"
      ]
     },
     "metadata": {},
     "output_type": "display_data"
    }
   ],
   "source": [
    "methods(circshift!)"
   ]
  },
  {
   "cell_type": "code",
   "execution_count": 36,
   "metadata": {},
   "outputs": [
    {
     "data": {
      "text/plain": [
       "BenchmarkTools.Trial: 1483 samples with 1 evaluation per sample.\n",
       " Range \u001b[90m(\u001b[39m\u001b[36m\u001b[1mmin\u001b[22m\u001b[39m … \u001b[35mmax\u001b[39m\u001b[90m):  \u001b[39m\u001b[36m\u001b[1m2.105 ms\u001b[22m\u001b[39m … \u001b[35m  5.980 ms\u001b[39m  \u001b[90m┊\u001b[39m GC \u001b[90m(\u001b[39mmin … max\u001b[90m): \u001b[39m0.00% … 0.00%\n",
       " Time  \u001b[90m(\u001b[39m\u001b[34m\u001b[1mmedian\u001b[22m\u001b[39m\u001b[90m):     \u001b[39m\u001b[34m\u001b[1m3.268 ms               \u001b[22m\u001b[39m\u001b[90m┊\u001b[39m GC \u001b[90m(\u001b[39mmedian\u001b[90m):    \u001b[39m0.00%\n",
       " Time  \u001b[90m(\u001b[39m\u001b[32m\u001b[1mmean\u001b[22m\u001b[39m ± \u001b[32mσ\u001b[39m\u001b[90m):   \u001b[39m\u001b[32m\u001b[1m3.355 ms\u001b[22m\u001b[39m ± \u001b[32m926.125 μs\u001b[39m  \u001b[90m┊\u001b[39m GC \u001b[90m(\u001b[39mmean ± σ\u001b[90m):  \u001b[39m0.00% ± 0.00%\n",
       "\n",
       "  \u001b[39m \u001b[39m▄\u001b[39m█\u001b[39m▄\u001b[39m \u001b[39m \u001b[39m \u001b[39m \u001b[39m \u001b[39m \u001b[39m \u001b[39m \u001b[39m \u001b[39m \u001b[39m \u001b[39m \u001b[39m \u001b[39m \u001b[39m \u001b[34m \u001b[39m\u001b[39m \u001b[32m \u001b[39m\u001b[39m \u001b[39m \u001b[39m \u001b[39m \u001b[39m \u001b[39m \u001b[39m \u001b[39m \u001b[39m \u001b[39m \u001b[39m \u001b[39m \u001b[39m \u001b[39m \u001b[39m \u001b[39m \u001b[39m \u001b[39m \u001b[39m \u001b[39m \u001b[39m \u001b[39m \u001b[39m \u001b[39m \u001b[39m \u001b[39m \u001b[39m \u001b[39m \u001b[39m \u001b[39m \u001b[39m \u001b[39m \u001b[39m \u001b[39m \u001b[39m \u001b[39m \u001b[39m \u001b[39m \u001b[39m \n",
       "  \u001b[39m▆\u001b[39m█\u001b[39m█\u001b[39m█\u001b[39m▇\u001b[39m▆\u001b[39m▆\u001b[39m▆\u001b[39m▆\u001b[39m▅\u001b[39m▃\u001b[39m▄\u001b[39m▄\u001b[39m▅\u001b[39m▆\u001b[39m█\u001b[39m▅\u001b[39m▇\u001b[39m▆\u001b[34m▇\u001b[39m\u001b[39m▅\u001b[32m▅\u001b[39m\u001b[39m▇\u001b[39m▇\u001b[39m▇\u001b[39m▇\u001b[39m▇\u001b[39m▅\u001b[39m▄\u001b[39m▄\u001b[39m▅\u001b[39m▅\u001b[39m▄\u001b[39m▅\u001b[39m▅\u001b[39m▅\u001b[39m▆\u001b[39m▇\u001b[39m▆\u001b[39m▅\u001b[39m▃\u001b[39m▅\u001b[39m▄\u001b[39m▃\u001b[39m▄\u001b[39m▃\u001b[39m▃\u001b[39m▃\u001b[39m▃\u001b[39m▃\u001b[39m▃\u001b[39m▃\u001b[39m▁\u001b[39m▄\u001b[39m▃\u001b[39m▃\u001b[39m▃\u001b[39m▃\u001b[39m▃\u001b[39m \u001b[39m▄\n",
       "  2.1 ms\u001b[90m          Histogram: frequency by time\u001b[39m        5.64 ms \u001b[0m\u001b[1m<\u001b[22m\n",
       "\n",
       " Memory estimate\u001b[90m: \u001b[39m\u001b[33m0 bytes\u001b[39m, allocs estimate\u001b[90m: \u001b[39m\u001b[33m0\u001b[39m."
      ]
     },
     "metadata": {},
     "output_type": "display_data"
    }
   ],
   "source": [
    "A1 = rand(1024, 1024+3) + im * rand(1024, 1024+3)\n",
    "a_cumstom = copy(A1)\n",
    "a_fft = copy(A1)\n",
    "dest = copy(A1)\n",
    "fftshift_custom!(dest,a_fft)\n",
    "fftshift_custom!(dest,a_fft)\n",
    "@assert fftshift(a_cumstom) ≈ dest\n",
    "@benchmark fftshift_custom!(dest, a_fft)"
   ]
  },
  {
   "cell_type": "code",
   "execution_count": 37,
   "metadata": {},
   "outputs": [
    {
     "data": {
      "text/plain": [
       "BenchmarkTools.Trial: 1399 samples with 1 evaluation per sample.\n",
       " Range \u001b[90m(\u001b[39m\u001b[36m\u001b[1mmin\u001b[22m\u001b[39m … \u001b[35mmax\u001b[39m\u001b[90m):  \u001b[39m\u001b[36m\u001b[1m2.272 ms\u001b[22m\u001b[39m … \u001b[35m 10.258 ms\u001b[39m  \u001b[90m┊\u001b[39m GC \u001b[90m(\u001b[39mmin … max\u001b[90m): \u001b[39m 0.00% … 11.78%\n",
       " Time  \u001b[90m(\u001b[39m\u001b[34m\u001b[1mmedian\u001b[22m\u001b[39m\u001b[90m):     \u001b[39m\u001b[34m\u001b[1m3.586 ms               \u001b[22m\u001b[39m\u001b[90m┊\u001b[39m GC \u001b[90m(\u001b[39mmedian\u001b[90m):    \u001b[39m 0.00%\n",
       " Time  \u001b[90m(\u001b[39m\u001b[32m\u001b[1mmean\u001b[22m\u001b[39m ± \u001b[32mσ\u001b[39m\u001b[90m):   \u001b[39m\u001b[32m\u001b[1m3.560 ms\u001b[22m\u001b[39m ± \u001b[32m770.248 μs\u001b[39m  \u001b[90m┊\u001b[39m GC \u001b[90m(\u001b[39mmean ± σ\u001b[90m):  \u001b[39m10.03% ± 11.46%\n",
       "\n",
       "  \u001b[39m \u001b[39m \u001b[39m▄\u001b[39m \u001b[39m \u001b[39m \u001b[39m \u001b[39m \u001b[39m \u001b[39m \u001b[39m \u001b[39m \u001b[39m \u001b[39m \u001b[39m \u001b[39m \u001b[39m▅\u001b[39m█\u001b[39m▅\u001b[39m \u001b[39m \u001b[39m \u001b[39m \u001b[39m \u001b[39m \u001b[39m \u001b[34m▃\u001b[39m\u001b[39m▅\u001b[39m▃\u001b[39m \u001b[39m \u001b[39m \u001b[39m \u001b[39m \u001b[39m \u001b[39m \u001b[39m \u001b[39m \u001b[39m \u001b[39m \u001b[39m \u001b[39m \u001b[39m \u001b[39m \u001b[39m \u001b[39m \u001b[39m \u001b[39m \u001b[39m \u001b[39m \u001b[39m \u001b[39m \u001b[39m \u001b[39m \u001b[39m \u001b[39m \u001b[39m \u001b[39m \u001b[39m \u001b[39m \u001b[39m \n",
       "  \u001b[39m▃\u001b[39m▆\u001b[39m█\u001b[39m▇\u001b[39m▄\u001b[39m▃\u001b[39m▅\u001b[39m▃\u001b[39m▃\u001b[39m▃\u001b[39m▂\u001b[39m▃\u001b[39m▂\u001b[39m▂\u001b[39m▃\u001b[39m▆\u001b[39m█\u001b[39m█\u001b[39m█\u001b[39m▇\u001b[39m▆\u001b[39m▇\u001b[39m▅\u001b[39m▄\u001b[39m▆\u001b[39m▆\u001b[34m█\u001b[39m\u001b[39m█\u001b[39m█\u001b[39m█\u001b[39m▆\u001b[39m▇\u001b[39m▇\u001b[39m▆\u001b[39m▅\u001b[39m▄\u001b[39m▄\u001b[39m▄\u001b[39m▆\u001b[39m▅\u001b[39m█\u001b[39m▇\u001b[39m▆\u001b[39m▄\u001b[39m▃\u001b[39m▄\u001b[39m▂\u001b[39m▃\u001b[39m▃\u001b[39m▁\u001b[39m▃\u001b[39m▂\u001b[39m▂\u001b[39m▃\u001b[39m▃\u001b[39m▃\u001b[39m▃\u001b[39m▃\u001b[39m▃\u001b[39m \u001b[39m▄\n",
       "  2.27 ms\u001b[90m         Histogram: frequency by time\u001b[39m        5.22 ms \u001b[0m\u001b[1m<\u001b[22m\n",
       "\n",
       " Memory estimate\u001b[90m: \u001b[39m\u001b[33m16.05 MiB\u001b[39m, allocs estimate\u001b[90m: \u001b[39m\u001b[33m3\u001b[39m."
      ]
     },
     "metadata": {},
     "output_type": "display_data"
    }
   ],
   "source": [
    "@benchmark fftshift(a_cumstom)"
   ]
  },
  {
   "cell_type": "code",
   "execution_count": 38,
   "metadata": {},
   "outputs": [
    {
     "data": {
      "text/plain": [
       "BenchmarkTools.Trial: 1513 samples with 1 evaluation per sample.\n",
       " Range \u001b[90m(\u001b[39m\u001b[36m\u001b[1mmin\u001b[22m\u001b[39m … \u001b[35mmax\u001b[39m\u001b[90m):  \u001b[39m\u001b[36m\u001b[1m2.084 ms\u001b[22m\u001b[39m … \u001b[35m  6.384 ms\u001b[39m  \u001b[90m┊\u001b[39m GC \u001b[90m(\u001b[39mmin … max\u001b[90m): \u001b[39m0.00% … 0.00%\n",
       " Time  \u001b[90m(\u001b[39m\u001b[34m\u001b[1mmedian\u001b[22m\u001b[39m\u001b[90m):     \u001b[39m\u001b[34m\u001b[1m3.288 ms               \u001b[22m\u001b[39m\u001b[90m┊\u001b[39m GC \u001b[90m(\u001b[39mmedian\u001b[90m):    \u001b[39m0.00%\n",
       " Time  \u001b[90m(\u001b[39m\u001b[32m\u001b[1mmean\u001b[22m\u001b[39m ± \u001b[32mσ\u001b[39m\u001b[90m):   \u001b[39m\u001b[32m\u001b[1m3.288 ms\u001b[22m\u001b[39m ± \u001b[32m819.287 μs\u001b[39m  \u001b[90m┊\u001b[39m GC \u001b[90m(\u001b[39mmean ± σ\u001b[90m):  \u001b[39m0.00% ± 0.00%\n",
       "\n",
       "  \u001b[39m \u001b[39m \u001b[39m█\u001b[39m█\u001b[39m \u001b[39m \u001b[39m \u001b[39m \u001b[39m \u001b[39m \u001b[39m \u001b[39m \u001b[39m \u001b[39m \u001b[39m \u001b[39m \u001b[39m \u001b[39m \u001b[39m \u001b[39m▁\u001b[39m▂\u001b[34m▁\u001b[39m\u001b[39m \u001b[39m▁\u001b[39m▂\u001b[39m▁\u001b[39m \u001b[39m \u001b[39m \u001b[39m \u001b[39m \u001b[39m \u001b[39m \u001b[39m \u001b[39m \u001b[39m \u001b[39m \u001b[39m \u001b[39m \u001b[39m \u001b[39m \u001b[39m \u001b[39m \u001b[39m \u001b[39m \u001b[39m \u001b[39m \u001b[39m \u001b[39m \u001b[39m \u001b[39m \u001b[39m \u001b[39m \u001b[39m \u001b[39m \u001b[39m \u001b[39m \u001b[39m \u001b[39m \u001b[39m \u001b[39m \n",
       "  \u001b[39m▄\u001b[39m▇\u001b[39m█\u001b[39m█\u001b[39m▆\u001b[39m▆\u001b[39m▆\u001b[39m▆\u001b[39m▅\u001b[39m▅\u001b[39m▄\u001b[39m▃\u001b[39m▄\u001b[39m▄\u001b[39m▃\u001b[39m▅\u001b[39m▅\u001b[39m▃\u001b[39m▅\u001b[39m█\u001b[39m█\u001b[34m█\u001b[39m\u001b[39m▇\u001b[39m█\u001b[39m█\u001b[39m█\u001b[39m▆\u001b[39m█\u001b[39m▇\u001b[39m▆\u001b[39m▄\u001b[39m▆\u001b[39m▄\u001b[39m▅\u001b[39m▄\u001b[39m▄\u001b[39m▄\u001b[39m▃\u001b[39m▃\u001b[39m▃\u001b[39m▄\u001b[39m▄\u001b[39m▃\u001b[39m▃\u001b[39m▃\u001b[39m▃\u001b[39m▂\u001b[39m▂\u001b[39m▃\u001b[39m▃\u001b[39m▂\u001b[39m▂\u001b[39m▂\u001b[39m▂\u001b[39m▁\u001b[39m▁\u001b[39m▁\u001b[39m▁\u001b[39m▂\u001b[39m \u001b[39m▃\n",
       "  2.08 ms\u001b[90m         Histogram: frequency by time\u001b[39m         5.4 ms \u001b[0m\u001b[1m<\u001b[22m\n",
       "\n",
       " Memory estimate\u001b[90m: \u001b[39m\u001b[33m0 bytes\u001b[39m, allocs estimate\u001b[90m: \u001b[39m\u001b[33m0\u001b[39m."
      ]
     },
     "metadata": {},
     "output_type": "display_data"
    }
   ],
   "source": [
    "@benchmark fftshift!(dest,a_cumstom)"
   ]
  },
  {
   "cell_type": "code",
   "execution_count": null,
   "metadata": {},
   "outputs": [
    {
     "data": {
      "text/plain": [
       "0"
      ]
     },
     "metadata": {},
     "output_type": "display_data"
    }
   ],
   "source": []
  },
  {
   "cell_type": "code",
   "execution_count": 8,
   "metadata": {},
   "outputs": [
    {
     "name": "stdout",
     "output_type": "stream",
     "text": [
      "true\n"
     ]
    },
    {
     "ename": "UndefVarError",
     "evalue": "UndefVarError: `heatmap` not defined in `Main`\nSuggestion: check for spelling errors or missing imports.",
     "output_type": "error",
     "traceback": [
      "UndefVarError: `heatmap` not defined in `Main`\n",
      "Suggestion: check for spelling errors or missing imports.\n",
      "\n",
      "Stacktrace:\n",
      " [1] top-level scope\n",
      "   @ ~/Desktop/julia_functions/jl_notebook_cell_df34fa98e69747e1a8f8a730347b8e2f_W6sZmlsZQ==.jl:5"
     ]
    }
   ],
   "source": [
    "test = ones(8, 8)\n",
    "test_fft = fftshift(fft(test))\n",
    "test_fft_custom = fftshift(fft_2dcustom(test))\n",
    "println(test_fft ≈ test_fft_custom)\n",
    "heatmap(abs2.(fftshift(fft_2dcustom(test))), title=\"Custom FFT 2D\", xlabel=\"Frequency X\", ylabel=\"Frequency Y\")"
   ]
  },
  {
   "cell_type": "code",
   "execution_count": 9,
   "metadata": {},
   "outputs": [
    {
     "data": {
      "text/plain": [
       "BenchmarkTools.Trial: 10000 samples with 5 evaluations per sample.\n",
       " Range \u001b[90m(\u001b[39m\u001b[36m\u001b[1mmin\u001b[22m\u001b[39m … \u001b[35mmax\u001b[39m\u001b[90m):  \u001b[39m\u001b[36m\u001b[1m 6.009 μs\u001b[22m\u001b[39m … \u001b[35m 3.792 ms\u001b[39m  \u001b[90m┊\u001b[39m GC \u001b[90m(\u001b[39mmin … max\u001b[90m): \u001b[39m0.00% … 33.45%\n",
       " Time  \u001b[90m(\u001b[39m\u001b[34m\u001b[1mmedian\u001b[22m\u001b[39m\u001b[90m):     \u001b[39m\u001b[34m\u001b[1m 6.981 μs              \u001b[22m\u001b[39m\u001b[90m┊\u001b[39m GC \u001b[90m(\u001b[39mmedian\u001b[90m):    \u001b[39m0.00%\n",
       " Time  \u001b[90m(\u001b[39m\u001b[32m\u001b[1mmean\u001b[22m\u001b[39m ± \u001b[32mσ\u001b[39m\u001b[90m):   \u001b[39m\u001b[32m\u001b[1m10.373 μs\u001b[22m\u001b[39m ± \u001b[32m55.333 μs\u001b[39m  \u001b[90m┊\u001b[39m GC \u001b[90m(\u001b[39mmean ± σ\u001b[90m):  \u001b[39m5.56% ±  1.41%\n",
       "\n",
       "  \u001b[39m▁\u001b[39m▄\u001b[39m▇\u001b[39m█\u001b[34m▆\u001b[39m\u001b[39m▅\u001b[39m▄\u001b[39m▄\u001b[39m▃\u001b[39m▃\u001b[39m▂\u001b[39m▂\u001b[39m▁\u001b[39m▁\u001b[39m▁\u001b[39m▁\u001b[39m▁\u001b[39m▁\u001b[39m \u001b[32m▁\u001b[39m\u001b[39m▁\u001b[39m \u001b[39m▁\u001b[39m▁\u001b[39m▁\u001b[39m▂\u001b[39m▃\u001b[39m▃\u001b[39m▃\u001b[39m▃\u001b[39m▂\u001b[39m▂\u001b[39m▂\u001b[39m▂\u001b[39m▂\u001b[39m▁\u001b[39m▁\u001b[39m \u001b[39m \u001b[39m \u001b[39m \u001b[39m \u001b[39m \u001b[39m \u001b[39m \u001b[39m \u001b[39m \u001b[39m \u001b[39m \u001b[39m \u001b[39m \u001b[39m \u001b[39m \u001b[39m \u001b[39m \u001b[39m \u001b[39m \u001b[39m \u001b[39m \u001b[39m \u001b[39m▂\n",
       "  \u001b[39m█\u001b[39m█\u001b[39m█\u001b[39m█\u001b[34m█\u001b[39m\u001b[39m█\u001b[39m█\u001b[39m█\u001b[39m█\u001b[39m█\u001b[39m█\u001b[39m█\u001b[39m█\u001b[39m█\u001b[39m█\u001b[39m█\u001b[39m█\u001b[39m█\u001b[39m█\u001b[32m█\u001b[39m\u001b[39m█\u001b[39m█\u001b[39m█\u001b[39m█\u001b[39m█\u001b[39m█\u001b[39m█\u001b[39m█\u001b[39m█\u001b[39m█\u001b[39m█\u001b[39m█\u001b[39m█\u001b[39m█\u001b[39m█\u001b[39m█\u001b[39m█\u001b[39m█\u001b[39m█\u001b[39m█\u001b[39m▇\u001b[39m▇\u001b[39m▇\u001b[39m▇\u001b[39m▇\u001b[39m▇\u001b[39m▇\u001b[39m▇\u001b[39m▇\u001b[39m▆\u001b[39m▇\u001b[39m▆\u001b[39m▆\u001b[39m▆\u001b[39m▆\u001b[39m▆\u001b[39m▆\u001b[39m▅\u001b[39m▅\u001b[39m \u001b[39m█\n",
       "  6.01 μs\u001b[90m      \u001b[39m\u001b[90mHistogram: \u001b[39m\u001b[90m\u001b[1mlog(\u001b[22m\u001b[39m\u001b[90mfrequency\u001b[39m\u001b[90m\u001b[1m)\u001b[22m\u001b[39m\u001b[90m by time\u001b[39m      19.4 μs \u001b[0m\u001b[1m<\u001b[22m\n",
       "\n",
       " Memory estimate\u001b[90m: \u001b[39m\u001b[33m16.33 KiB\u001b[39m, allocs estimate\u001b[90m: \u001b[39m\u001b[33m8\u001b[39m."
      ]
     },
     "metadata": {},
     "output_type": "display_data"
    }
   ],
   "source": [
    "a = Complex.(rand(1024)) .+ im .* Complex.(rand(1024))\n",
    "a_fft_custom = fft(a);\n",
    "@benchmark fft(a)"
   ]
  },
  {
   "cell_type": "code",
   "execution_count": 22,
   "metadata": {},
   "outputs": [
    {
     "data": {
      "text/plain": [
       "BenchmarkTools.Trial: 10000 samples with 1 evaluation per sample.\n",
       " Range \u001b[90m(\u001b[39m\u001b[36m\u001b[1mmin\u001b[22m\u001b[39m … \u001b[35mmax\u001b[39m\u001b[90m):  \u001b[39m\u001b[36m\u001b[1m42.539 μs\u001b[22m\u001b[39m … \u001b[35m78.187 μs\u001b[39m  \u001b[90m┊\u001b[39m GC \u001b[90m(\u001b[39mmin … max\u001b[90m): \u001b[39m0.00% … 0.00%\n",
       " Time  \u001b[90m(\u001b[39m\u001b[34m\u001b[1mmedian\u001b[22m\u001b[39m\u001b[90m):     \u001b[39m\u001b[34m\u001b[1m46.567 μs              \u001b[22m\u001b[39m\u001b[90m┊\u001b[39m GC \u001b[90m(\u001b[39mmedian\u001b[90m):    \u001b[39m0.00%\n",
       " Time  \u001b[90m(\u001b[39m\u001b[32m\u001b[1mmean\u001b[22m\u001b[39m ± \u001b[32mσ\u001b[39m\u001b[90m):   \u001b[39m\u001b[32m\u001b[1m47.203 μs\u001b[22m\u001b[39m ± \u001b[32m 3.331 μs\u001b[39m  \u001b[90m┊\u001b[39m GC \u001b[90m(\u001b[39mmean ± σ\u001b[90m):  \u001b[39m0.00% ± 0.00%\n",
       "\n",
       "  \u001b[39m \u001b[39m \u001b[39m \u001b[39m \u001b[39m \u001b[39m \u001b[39m \u001b[39m \u001b[39m▅\u001b[39m \u001b[39m \u001b[39m \u001b[39m \u001b[39m \u001b[34m \u001b[39m\u001b[39m \u001b[32m \u001b[39m\u001b[39m \u001b[39m \u001b[39m \u001b[39m \u001b[39m \u001b[39m \u001b[39m \u001b[39m \u001b[39m \u001b[39m \u001b[39m█\u001b[39m \u001b[39m \u001b[39m \u001b[39m \u001b[39m \u001b[39m \u001b[39m \u001b[39m \u001b[39m \u001b[39m \u001b[39m \u001b[39m \u001b[39m \u001b[39m \u001b[39m \u001b[39m \u001b[39m \u001b[39m \u001b[39m \u001b[39m \u001b[39m \u001b[39m \u001b[39m \u001b[39m \u001b[39m \u001b[39m \u001b[39m \u001b[39m \u001b[39m \u001b[39m \u001b[39m \u001b[39m \u001b[39m \n",
       "  \u001b[39m▂\u001b[39m▄\u001b[39m▃\u001b[39m▅\u001b[39m▄\u001b[39m▃\u001b[39m▄\u001b[39m▃\u001b[39m█\u001b[39m▄\u001b[39m▄\u001b[39m▃\u001b[39m▄\u001b[39m▆\u001b[34m▇\u001b[39m\u001b[39m▆\u001b[32m▃\u001b[39m\u001b[39m▄\u001b[39m█\u001b[39m▃\u001b[39m▂\u001b[39m▁\u001b[39m▁\u001b[39m▁\u001b[39m▁\u001b[39m▁\u001b[39m▁\u001b[39m█\u001b[39m▃\u001b[39m▁\u001b[39m▁\u001b[39m▁\u001b[39m▁\u001b[39m▁\u001b[39m▁\u001b[39m▁\u001b[39m▁\u001b[39m▁\u001b[39m▁\u001b[39m▁\u001b[39m▁\u001b[39m▁\u001b[39m▁\u001b[39m▁\u001b[39m▁\u001b[39m▁\u001b[39m▁\u001b[39m▁\u001b[39m▁\u001b[39m▁\u001b[39m▁\u001b[39m▁\u001b[39m▁\u001b[39m▁\u001b[39m▁\u001b[39m▁\u001b[39m▁\u001b[39m▁\u001b[39m▁\u001b[39m \u001b[39m▂\n",
       "  42.5 μs\u001b[90m         Histogram: frequency by time\u001b[39m          60 μs \u001b[0m\u001b[1m<\u001b[22m\n",
       "\n",
       " Memory estimate\u001b[90m: \u001b[39m\u001b[33m0 bytes\u001b[39m, allocs estimate\u001b[90m: \u001b[39m\u001b[33m0\u001b[39m."
      ]
     },
     "metadata": {},
     "output_type": "display_data"
    }
   ],
   "source": [
    "reals = real.(a)\n",
    "imags = imag.(a)\n",
    "@benchmark fft_1dgpt!(reals, imags)\n",
    "# @assert reals ≈ real.(a_fft_custom)\n",
    "# @assert imags ≈ imag.(a_fft_custom)"
   ]
  },
  {
   "cell_type": "code",
   "execution_count": 11,
   "metadata": {},
   "outputs": [
    {
     "name": "stdout",
     "output_type": "stream",
     "text": [
      "[0.8285304472569426, 0.851857007404441, 0.1592271527401642, 0.7794039528900412, 0.16614725398876395, 0.22262794209526726, 0.9695421109047757, 0.6894412890876838, 0.9395922092962491, 0.8861822686815922]\n",
      "[517.0169627377404, 24.344073851918537, -9.594306241927015, 13.110364012337032, -8.722020496715219, 6.713355713884441, -2.9990449691718357, 3.260948477454004, -6.136491623512576, -16.615056922515482]\n"
     ]
    }
   ],
   "source": [
    "println(imags[1:10])\n",
    "println(imag.(a_fft_custom)[1:10])"
   ]
  },
  {
   "cell_type": "code",
   "execution_count": 12,
   "metadata": {},
   "outputs": [
    {
     "data": {
      "text/plain": [
       "BenchmarkTools.Trial: 10000 samples with 1 evaluation per sample.\n",
       " Range \u001b[90m(\u001b[39m\u001b[36m\u001b[1mmin\u001b[22m\u001b[39m … \u001b[35mmax\u001b[39m\u001b[90m):  \u001b[39m\u001b[36m\u001b[1m11.612 μs\u001b[22m\u001b[39m … \u001b[35m 1.673 ms\u001b[39m  \u001b[90m┊\u001b[39m GC \u001b[90m(\u001b[39mmin … max\u001b[90m): \u001b[39m0.00% … 97.49%\n",
       " Time  \u001b[90m(\u001b[39m\u001b[34m\u001b[1mmedian\u001b[22m\u001b[39m\u001b[90m):     \u001b[39m\u001b[34m\u001b[1m12.193 μs              \u001b[22m\u001b[39m\u001b[90m┊\u001b[39m GC \u001b[90m(\u001b[39mmedian\u001b[90m):    \u001b[39m0.00%\n",
       " Time  \u001b[90m(\u001b[39m\u001b[32m\u001b[1mmean\u001b[22m\u001b[39m ± \u001b[32mσ\u001b[39m\u001b[90m):   \u001b[39m\u001b[32m\u001b[1m13.202 μs\u001b[22m\u001b[39m ± \u001b[32m16.708 μs\u001b[39m  \u001b[90m┊\u001b[39m GC \u001b[90m(\u001b[39mmean ± σ\u001b[90m):  \u001b[39m1.24% ±  0.97%\n",
       "\n",
       "  \u001b[39m▁\u001b[39m▅\u001b[39m▇\u001b[39m█\u001b[34m█\u001b[39m\u001b[39m▆\u001b[39m▅\u001b[39m▃\u001b[39m▂\u001b[39m▂\u001b[39m▂\u001b[39m▁\u001b[32m▂\u001b[39m\u001b[39m▁\u001b[39m▁\u001b[39m▂\u001b[39m▁\u001b[39m▁\u001b[39m▂\u001b[39m▂\u001b[39m▁\u001b[39m▁\u001b[39m▂\u001b[39m▂\u001b[39m▂\u001b[39m▂\u001b[39m▂\u001b[39m▂\u001b[39m▂\u001b[39m▂\u001b[39m▂\u001b[39m▂\u001b[39m▂\u001b[39m▁\u001b[39m▁\u001b[39m▁\u001b[39m▁\u001b[39m▁\u001b[39m▁\u001b[39m▁\u001b[39m▁\u001b[39m \u001b[39m \u001b[39m \u001b[39m \u001b[39m \u001b[39m \u001b[39m \u001b[39m \u001b[39m \u001b[39m \u001b[39m \u001b[39m \u001b[39m \u001b[39m \u001b[39m \u001b[39m \u001b[39m \u001b[39m \u001b[39m \u001b[39m▂\n",
       "  \u001b[39m█\u001b[39m█\u001b[39m█\u001b[39m█\u001b[34m█\u001b[39m\u001b[39m█\u001b[39m█\u001b[39m█\u001b[39m█\u001b[39m█\u001b[39m█\u001b[39m█\u001b[32m█\u001b[39m\u001b[39m█\u001b[39m█\u001b[39m█\u001b[39m█\u001b[39m█\u001b[39m█\u001b[39m█\u001b[39m█\u001b[39m█\u001b[39m█\u001b[39m█\u001b[39m█\u001b[39m█\u001b[39m█\u001b[39m█\u001b[39m█\u001b[39m█\u001b[39m█\u001b[39m█\u001b[39m█\u001b[39m█\u001b[39m█\u001b[39m█\u001b[39m█\u001b[39m█\u001b[39m█\u001b[39m█\u001b[39m█\u001b[39m█\u001b[39m█\u001b[39m█\u001b[39m▇\u001b[39m▇\u001b[39m▇\u001b[39m▇\u001b[39m▇\u001b[39m▆\u001b[39m▇\u001b[39m▇\u001b[39m▆\u001b[39m▅\u001b[39m▆\u001b[39m▆\u001b[39m▄\u001b[39m▄\u001b[39m▅\u001b[39m \u001b[39m█\n",
       "  11.6 μs\u001b[90m      \u001b[39m\u001b[90mHistogram: \u001b[39m\u001b[90m\u001b[1mlog(\u001b[22m\u001b[39m\u001b[90mfrequency\u001b[39m\u001b[90m\u001b[1m)\u001b[22m\u001b[39m\u001b[90m by time\u001b[39m      19.4 μs \u001b[0m\u001b[1m<\u001b[22m\n",
       "\n",
       " Memory estimate\u001b[90m: \u001b[39m\u001b[33m16.06 KiB\u001b[39m, allocs estimate\u001b[90m: \u001b[39m\u001b[33m3\u001b[39m."
      ]
     },
     "metadata": {},
     "output_type": "display_data"
    }
   ],
   "source": [
    "@benchmark fft_1dgpt(a)"
   ]
  },
  {
   "cell_type": "code",
   "execution_count": 13,
   "metadata": {},
   "outputs": [
    {
     "data": {
      "text/plain": [
       "BenchmarkTools.Trial: 10000 samples with 5 evaluations per sample.\n",
       " Range \u001b[90m(\u001b[39m\u001b[36m\u001b[1mmin\u001b[22m\u001b[39m … \u001b[35mmax\u001b[39m\u001b[90m):  \u001b[39m\u001b[36m\u001b[1m 6.474 μs\u001b[22m\u001b[39m … \u001b[35m 3.649 ms\u001b[39m  \u001b[90m┊\u001b[39m GC \u001b[90m(\u001b[39mmin … max\u001b[90m): \u001b[39m0.00% … 23.58%\n",
       " Time  \u001b[90m(\u001b[39m\u001b[34m\u001b[1mmedian\u001b[22m\u001b[39m\u001b[90m):     \u001b[39m\u001b[34m\u001b[1m 7.388 μs              \u001b[22m\u001b[39m\u001b[90m┊\u001b[39m GC \u001b[90m(\u001b[39mmedian\u001b[90m):    \u001b[39m0.00%\n",
       " Time  \u001b[90m(\u001b[39m\u001b[32m\u001b[1mmean\u001b[22m\u001b[39m ± \u001b[32mσ\u001b[39m\u001b[90m):   \u001b[39m\u001b[32m\u001b[1m10.515 μs\u001b[22m\u001b[39m ± \u001b[32m54.387 μs\u001b[39m  \u001b[90m┊\u001b[39m GC \u001b[90m(\u001b[39mmean ± σ\u001b[90m):  \u001b[39m5.27% ±  1.47%\n",
       "\n",
       "  \u001b[39m▁\u001b[39m▅\u001b[39m█\u001b[39m█\u001b[34m▆\u001b[39m\u001b[39m▅\u001b[39m▄\u001b[39m▄\u001b[39m▄\u001b[39m▃\u001b[39m▃\u001b[39m▃\u001b[39m▃\u001b[39m▂\u001b[39m▁\u001b[39m▁\u001b[39m▁\u001b[39m▁\u001b[32m \u001b[39m\u001b[39m▁\u001b[39m \u001b[39m \u001b[39m▁\u001b[39m \u001b[39m▁\u001b[39m▁\u001b[39m▁\u001b[39m▁\u001b[39m▁\u001b[39m▁\u001b[39m▁\u001b[39m▁\u001b[39m▁\u001b[39m▁\u001b[39m▁\u001b[39m▁\u001b[39m \u001b[39m▁\u001b[39m▁\u001b[39m \u001b[39m \u001b[39m \u001b[39m \u001b[39m \u001b[39m \u001b[39m \u001b[39m \u001b[39m \u001b[39m \u001b[39m \u001b[39m \u001b[39m \u001b[39m \u001b[39m \u001b[39m \u001b[39m \u001b[39m \u001b[39m \u001b[39m \u001b[39m \u001b[39m▂\n",
       "  \u001b[39m█\u001b[39m█\u001b[39m█\u001b[39m█\u001b[34m█\u001b[39m\u001b[39m█\u001b[39m█\u001b[39m█\u001b[39m█\u001b[39m█\u001b[39m█\u001b[39m█\u001b[39m█\u001b[39m█\u001b[39m█\u001b[39m█\u001b[39m█\u001b[39m█\u001b[32m█\u001b[39m\u001b[39m█\u001b[39m█\u001b[39m█\u001b[39m█\u001b[39m█\u001b[39m█\u001b[39m█\u001b[39m█\u001b[39m█\u001b[39m█\u001b[39m█\u001b[39m█\u001b[39m█\u001b[39m█\u001b[39m█\u001b[39m█\u001b[39m█\u001b[39m█\u001b[39m█\u001b[39m█\u001b[39m█\u001b[39m█\u001b[39m█\u001b[39m▇\u001b[39m█\u001b[39m▇\u001b[39m▇\u001b[39m█\u001b[39m▇\u001b[39m▇\u001b[39m▆\u001b[39m▇\u001b[39m▆\u001b[39m▆\u001b[39m▇\u001b[39m▅\u001b[39m▅\u001b[39m▅\u001b[39m▅\u001b[39m▅\u001b[39m \u001b[39m█\n",
       "  6.47 μs\u001b[90m      \u001b[39m\u001b[90mHistogram: \u001b[39m\u001b[90m\u001b[1mlog(\u001b[22m\u001b[39m\u001b[90mfrequency\u001b[39m\u001b[90m\u001b[1m)\u001b[22m\u001b[39m\u001b[90m by time\u001b[39m      19.8 μs \u001b[0m\u001b[1m<\u001b[22m\n",
       "\n",
       " Memory estimate\u001b[90m: \u001b[39m\u001b[33m16.33 KiB\u001b[39m, allocs estimate\u001b[90m: \u001b[39m\u001b[33m8\u001b[39m."
      ]
     },
     "metadata": {},
     "output_type": "display_data"
    }
   ],
   "source": [
    "@benchmark fft(a)"
   ]
  },
  {
   "cell_type": "code",
   "execution_count": 14,
   "metadata": {},
   "outputs": [
    {
     "data": {
      "text/plain": [
       "BenchmarkTools.Trial: 100 samples with 1 evaluation per sample.\n",
       " Range \u001b[90m(\u001b[39m\u001b[36m\u001b[1mmin\u001b[22m\u001b[39m … \u001b[35mmax\u001b[39m\u001b[90m):  \u001b[39m\u001b[36m\u001b[1m44.359 ms\u001b[22m\u001b[39m … \u001b[35m116.520 ms\u001b[39m  \u001b[90m┊\u001b[39m GC \u001b[90m(\u001b[39mmin … max\u001b[90m): \u001b[39m0.00% … 56.32%\n",
       " Time  \u001b[90m(\u001b[39m\u001b[34m\u001b[1mmedian\u001b[22m\u001b[39m\u001b[90m):     \u001b[39m\u001b[34m\u001b[1m47.388 ms               \u001b[22m\u001b[39m\u001b[90m┊\u001b[39m GC \u001b[90m(\u001b[39mmedian\u001b[90m):    \u001b[39m3.68%\n",
       " Time  \u001b[90m(\u001b[39m\u001b[32m\u001b[1mmean\u001b[22m\u001b[39m ± \u001b[32mσ\u001b[39m\u001b[90m):   \u001b[39m\u001b[32m\u001b[1m50.178 ms\u001b[22m\u001b[39m ± \u001b[32m 11.397 ms\u001b[39m  \u001b[90m┊\u001b[39m GC \u001b[90m(\u001b[39mmean ± σ\u001b[90m):  \u001b[39m7.33% ± 10.15%\n",
       "\n",
       "  \u001b[39m▃\u001b[39m▅\u001b[39m▆\u001b[34m█\u001b[39m\u001b[39m▅\u001b[39m▃\u001b[32m▁\u001b[39m\u001b[39m \u001b[39m \u001b[39m \u001b[39m \u001b[39m \u001b[39m \u001b[39m \u001b[39m \u001b[39m \u001b[39m \u001b[39m \u001b[39m \u001b[39m \u001b[39m \u001b[39m \u001b[39m \u001b[39m \u001b[39m \u001b[39m \u001b[39m \u001b[39m \u001b[39m \u001b[39m \u001b[39m \u001b[39m \u001b[39m \u001b[39m \u001b[39m \u001b[39m \u001b[39m \u001b[39m \u001b[39m \u001b[39m \u001b[39m \u001b[39m \u001b[39m \u001b[39m \u001b[39m \u001b[39m \u001b[39m \u001b[39m \u001b[39m \u001b[39m \u001b[39m \u001b[39m \u001b[39m \u001b[39m \u001b[39m \u001b[39m \u001b[39m \u001b[39m \u001b[39m \u001b[39m \u001b[39m \u001b[39m \n",
       "  \u001b[39m█\u001b[39m█\u001b[39m█\u001b[34m█\u001b[39m\u001b[39m█\u001b[39m█\u001b[32m█\u001b[39m\u001b[39m▅\u001b[39m▁\u001b[39m▁\u001b[39m▁\u001b[39m▁\u001b[39m▁\u001b[39m▁\u001b[39m▅\u001b[39m▁\u001b[39m▅\u001b[39m▁\u001b[39m▁\u001b[39m▁\u001b[39m▅\u001b[39m▁\u001b[39m▁\u001b[39m▁\u001b[39m▁\u001b[39m▁\u001b[39m▁\u001b[39m▅\u001b[39m▁\u001b[39m▁\u001b[39m▁\u001b[39m▁\u001b[39m▁\u001b[39m▁\u001b[39m▁\u001b[39m▁\u001b[39m▁\u001b[39m▁\u001b[39m▁\u001b[39m▁\u001b[39m▁\u001b[39m▁\u001b[39m▁\u001b[39m▁\u001b[39m▁\u001b[39m▁\u001b[39m▁\u001b[39m▁\u001b[39m▁\u001b[39m▁\u001b[39m▁\u001b[39m▁\u001b[39m▁\u001b[39m▁\u001b[39m▁\u001b[39m▁\u001b[39m▅\u001b[39m▅\u001b[39m▁\u001b[39m▅\u001b[39m \u001b[39m▅\n",
       "  44.4 ms\u001b[90m       \u001b[39m\u001b[90mHistogram: \u001b[39m\u001b[90m\u001b[1mlog(\u001b[22m\u001b[39m\u001b[90mfrequency\u001b[39m\u001b[90m\u001b[1m)\u001b[22m\u001b[39m\u001b[90m by time\u001b[39m      99.9 ms \u001b[0m\u001b[1m<\u001b[22m\n",
       "\n",
       " Memory estimate\u001b[90m: \u001b[39m\u001b[33m48.13 MiB\u001b[39m, allocs estimate\u001b[90m: \u001b[39m\u001b[33m6147\u001b[39m."
      ]
     },
     "metadata": {},
     "output_type": "display_data"
    }
   ],
   "source": [
    "@benchmark fft_2dcustom(A)"
   ]
  },
  {
   "cell_type": "code",
   "execution_count": 15,
   "metadata": {},
   "outputs": [
    {
     "data": {
      "text/plain": [
       "BenchmarkTools.Trial: 123 samples with 1 evaluation per sample.\n",
       " Range \u001b[90m(\u001b[39m\u001b[36m\u001b[1mmin\u001b[22m\u001b[39m … \u001b[35mmax\u001b[39m\u001b[90m):  \u001b[39m\u001b[36m\u001b[1m37.039 ms\u001b[22m\u001b[39m … \u001b[35m62.632 ms\u001b[39m  \u001b[90m┊\u001b[39m GC \u001b[90m(\u001b[39mmin … max\u001b[90m): \u001b[39m0.00% … 0.00%\n",
       " Time  \u001b[90m(\u001b[39m\u001b[34m\u001b[1mmedian\u001b[22m\u001b[39m\u001b[90m):     \u001b[39m\u001b[34m\u001b[1m39.345 ms              \u001b[22m\u001b[39m\u001b[90m┊\u001b[39m GC \u001b[90m(\u001b[39mmedian\u001b[90m):    \u001b[39m1.62%\n",
       " Time  \u001b[90m(\u001b[39m\u001b[32m\u001b[1mmean\u001b[22m\u001b[39m ± \u001b[32mσ\u001b[39m\u001b[90m):   \u001b[39m\u001b[32m\u001b[1m40.830 ms\u001b[22m\u001b[39m ± \u001b[32m 4.544 ms\u001b[39m  \u001b[90m┊\u001b[39m GC \u001b[90m(\u001b[39mmean ± σ\u001b[90m):  \u001b[39m1.80% ± 1.59%\n",
       "\n",
       "  \u001b[39m \u001b[39m \u001b[39m \u001b[39m▅\u001b[39m█\u001b[39m▆\u001b[34m▇\u001b[39m\u001b[39m \u001b[39m \u001b[39m \u001b[32m \u001b[39m\u001b[39m \u001b[39m \u001b[39m \u001b[39m \u001b[39m \u001b[39m \u001b[39m \u001b[39m \u001b[39m \u001b[39m \u001b[39m \u001b[39m \u001b[39m \u001b[39m \u001b[39m \u001b[39m \u001b[39m \u001b[39m \u001b[39m \u001b[39m \u001b[39m \u001b[39m \u001b[39m \u001b[39m \u001b[39m \u001b[39m \u001b[39m \u001b[39m \u001b[39m \u001b[39m \u001b[39m \u001b[39m \u001b[39m \u001b[39m \u001b[39m \u001b[39m \u001b[39m \u001b[39m \u001b[39m \u001b[39m \u001b[39m \u001b[39m \u001b[39m \u001b[39m \u001b[39m \u001b[39m \u001b[39m \u001b[39m \u001b[39m \u001b[39m \n",
       "  \u001b[39m▅\u001b[39m▅\u001b[39m▆\u001b[39m█\u001b[39m█\u001b[39m█\u001b[34m█\u001b[39m\u001b[39m▆\u001b[39m▆\u001b[39m▃\u001b[32m▃\u001b[39m\u001b[39m▄\u001b[39m▁\u001b[39m▃\u001b[39m▁\u001b[39m▃\u001b[39m▃\u001b[39m▃\u001b[39m▃\u001b[39m▁\u001b[39m▁\u001b[39m▃\u001b[39m▁\u001b[39m▁\u001b[39m▄\u001b[39m▁\u001b[39m▄\u001b[39m▁\u001b[39m▁\u001b[39m▁\u001b[39m▃\u001b[39m▁\u001b[39m▁\u001b[39m▃\u001b[39m▁\u001b[39m▃\u001b[39m▁\u001b[39m▁\u001b[39m▁\u001b[39m▁\u001b[39m▁\u001b[39m▃\u001b[39m▁\u001b[39m▁\u001b[39m▃\u001b[39m▁\u001b[39m▁\u001b[39m▁\u001b[39m▁\u001b[39m▁\u001b[39m▁\u001b[39m▁\u001b[39m▁\u001b[39m▁\u001b[39m▁\u001b[39m▁\u001b[39m▃\u001b[39m▁\u001b[39m▃\u001b[39m \u001b[39m▃\n",
       "  37 ms\u001b[90m           Histogram: frequency by time\u001b[39m        60.4 ms \u001b[0m\u001b[1m<\u001b[22m\n",
       "\n",
       " Memory estimate\u001b[90m: \u001b[39m\u001b[33m16.00 MiB\u001b[39m, allocs estimate\u001b[90m: \u001b[39m\u001b[33m8\u001b[39m."
      ]
     },
     "metadata": {},
     "output_type": "display_data"
    }
   ],
   "source": [
    "@benchmark fft(A)"
   ]
  },
  {
   "cell_type": "code",
   "execution_count": 16,
   "metadata": {},
   "outputs": [
    {
     "ename": "ArgumentError",
     "evalue": "ArgumentError: Package JuMP not found in current path.\n- Run `import Pkg; Pkg.add(\"JuMP\")` to install the JuMP package.",
     "output_type": "error",
     "traceback": [
      "ArgumentError: Package JuMP not found in current path.\n",
      "- Run `import Pkg; Pkg.add(\"JuMP\")` to install the JuMP package.\n",
      "\n",
      "Stacktrace:\n",
      "  [1] macro expansion\n",
      "    @ ./loading.jl:2296 [inlined]\n",
      "  [2] macro expansion\n",
      "    @ ./lock.jl:273 [inlined]\n",
      "  [3] __require(into::Module, mod::Symbol)\n",
      "    @ Base ./loading.jl:2271\n",
      "  [4] #invoke_in_world#3\n",
      "    @ ./essentials.jl:1089 [inlined]\n",
      "  [5] invoke_in_world\n",
      "    @ ./essentials.jl:1086 [inlined]\n",
      "  [6] require(into::Module, mod::Symbol)\n",
      "    @ Base ./loading.jl:2260\n",
      "  [7] eval\n",
      "    @ ./boot.jl:430 [inlined]\n",
      "  [8] include_string(mapexpr::typeof(REPL.softscope), mod::Module, code::String, filename::String)\n",
      "    @ Base ./loading.jl:2734\n",
      "  [9] #invokelatest#2\n",
      "    @ ./essentials.jl:1055 [inlined]\n",
      " [10] invokelatest\n",
      "    @ ./essentials.jl:1052 [inlined]\n",
      " [11] (::VSCodeServer.var\"#217#218\"{VSCodeServer.NotebookRunCellArguments, String})()\n",
      "    @ VSCodeServer ~/.vscode/extensions/julialang.language-julia-1.141.2/scripts/packages/VSCodeServer/src/serve_notebook.jl:24\n",
      " [12] withpath(f::VSCodeServer.var\"#217#218\"{VSCodeServer.NotebookRunCellArguments, String}, path::String)\n",
      "    @ VSCodeServer ~/.vscode/extensions/julialang.language-julia-1.141.2/scripts/packages/VSCodeServer/src/repl.jl:276\n",
      " [13] notebook_runcell_request(conn::VSCodeServer.JSONRPC.JSONRPCEndpoint{Base.PipeEndpoint, Base.PipeEndpoint, VSCodeServer.JSON.Serializations.StandardSerialization}, params::VSCodeServer.NotebookRunCellArguments, token::VSCodeServer.CancellationTokens.CancellationToken)\n",
      "    @ VSCodeServer ~/.vscode/extensions/julialang.language-julia-1.141.2/scripts/packages/VSCodeServer/src/serve_notebook.jl:13\n",
      " [14] dispatch_msg(x::VSCodeServer.JSONRPC.JSONRPCEndpoint{Base.PipeEndpoint, Base.PipeEndpoint, VSCodeServer.JSON.Serializations.StandardSerialization}, dispatcher::VSCodeServer.JSONRPC.MsgDispatcher, msg::VSCodeServer.JSONRPC.Request)\n",
      "    @ VSCodeServer.JSONRPC ~/.vscode/extensions/julialang.language-julia-1.141.2/scripts/packages/JSONRPC/src/typed.jl:68\n",
      " [15] serve_notebook(pipename::String, debugger_pipename::String, outputchannel_logger::Base.CoreLogging.SimpleLogger; error_handler::var\"#5#10\"{String})\n",
      "    @ VSCodeServer ~/.vscode/extensions/julialang.language-julia-1.141.2/scripts/packages/VSCodeServer/src/serve_notebook.jl:147\n",
      " [16] top-level scope\n",
      "    @ ~/.vscode/extensions/julialang.language-julia-1.141.2/scripts/notebook/notebook.jl:35"
     ]
    }
   ],
   "source": [
    "using Plots\n",
    "using JuMP\n",
    "using Ipopt"
   ]
  },
  {
   "cell_type": "code",
   "execution_count": 17,
   "metadata": {},
   "outputs": [],
   "source": [
    "struct MinimizingFunc\n",
    "    x::Vector{Float64}\n",
    "    y_data::Vector{Float64}\n",
    "    # amk::Array{Any, 3}\n",
    "    # params::Vector{Float64}\n",
    "end\n",
    "function (pv::MinimizingFunc)(m, b)\n",
    "\n",
    "   \n",
    "    model_real = @. sin(m*pv.x) + b\n",
    "    model_imag = model_real.*zero(model_real)\n",
    "\n",
    "\n",
    "    \n",
    "\n",
    "    fft_1dgpt!(model_real, model_imag)\n",
    "    # model_abs = @. sqrt(model_real^2 + model_imag^2)\n",
    "    # half_real = model_fft[1:2:end]\n",
    "\n",
    "    \n",
    "    obj = sum((model_real .- pv.y_data).^2)\n",
    "\n",
    "    return obj\n",
    "end"
   ]
  },
  {
   "cell_type": "code",
   "execution_count": 18,
   "metadata": {},
   "outputs": [
    {
     "data": {
      "image/png": "[encoded data removed]",
      "image/svg+xml": [
       "<?xml version=\"1.0\" encoding=\"utf-8\"?>\n",
       "<svg xmlns=\"http://www.w3.org/2000/svg\" xmlns:xlink=\"http://www.w3.org/1999/xlink\" width=\"600\" height=\"400\" viewBox=\"0 0 2400 1600\">\n",
       "<defs>\n",
       "  <clipPath id=\"clip890\">\n",
       "    <rect x=\"0\" y=\"0\" width=\"2400\" height=\"1600\"/>\n",
       "  </clipPath>\n",
       "</defs>\n",
       "<path clip-path=\"url(#clip890)\" d=\"M0 1600 L2400 1600 L2400 0 L0 0  Z\" fill=\"#ffffff\" fill-rule=\"evenodd\" fill-opacity=\"1\"/>\n",
       "<defs>\n",
       "  <clipPath id=\"clip891\">\n",
       "    <rect x=\"480\" y=\"0\" width=\"1681\" height=\"1600\"/>\n",
       "  </clipPath>\n",
       "</defs>\n",
       "<path clip-path=\"url(#clip890)\" d=\"M169.121 1486.45 L2352.76 1486.45 L2352.76 47.2441 L169.121 47.2441  Z\" fill=\"#ffffff\" fill-rule=\"evenodd\" fill-opacity=\"1\"/>\n",
       "<defs>\n",
       "  <clipPath id=\"clip892\">\n",
       "    <rect x=\"169\" y=\"47\" width=\"2185\" height=\"1440\"/>\n",
       "  </clipPath>\n",
       "</defs>\n",
       "<polyline clip-path=\"url(#clip892)\" style=\"stroke:#000000; stroke-linecap:round; stroke-linejoin:round; stroke-width:2; stroke-opacity:0.1; fill:none\" points=\"230.922,1486.45 230.922,47.2441 \"/>\n",
       "<polyline clip-path=\"url(#clip892)\" style=\"stroke:#000000; stroke-linecap:round; stroke-linejoin:round; stroke-width:2; stroke-opacity:0.1; fill:none\" points=\"745.93,1486.45 745.93,47.2441 \"/>\n",
       "<polyline clip-path=\"url(#clip892)\" style=\"stroke:#000000; stroke-linecap:round; stroke-linejoin:round; stroke-width:2; stroke-opacity:0.1; fill:none\" points=\"1260.94,1486.45 1260.94,47.2441 \"/>\n",
       "<polyline clip-path=\"url(#clip892)\" style=\"stroke:#000000; stroke-linecap:round; stroke-linejoin:round; stroke-width:2; stroke-opacity:0.1; fill:none\" points=\"1775.95,1486.45 1775.95,47.2441 \"/>\n",
       "<polyline clip-path=\"url(#clip892)\" style=\"stroke:#000000; stroke-linecap:round; stroke-linejoin:round; stroke-width:2; stroke-opacity:0.1; fill:none\" points=\"2290.95,1486.45 2290.95,47.2441 \"/>\n",
       "<polyline clip-path=\"url(#clip892)\" style=\"stroke:#000000; stroke-linecap:round; stroke-linejoin:round; stroke-width:2; stroke-opacity:0.1; fill:none\" points=\"169.121,1439.36 2352.76,1439.36 \"/>\n",
       "<polyline clip-path=\"url(#clip892)\" style=\"stroke:#000000; stroke-linecap:round; stroke-linejoin:round; stroke-width:2; stroke-opacity:0.1; fill:none\" points=\"169.121,1227.61 2352.76,1227.61 \"/>\n",
       "<polyline clip-path=\"url(#clip892)\" style=\"stroke:#000000; stroke-linecap:round; stroke-linejoin:round; stroke-width:2; stroke-opacity:0.1; fill:none\" points=\"169.121,1015.85 2352.76,1015.85 \"/>\n",
       "<polyline clip-path=\"url(#clip892)\" style=\"stroke:#000000; stroke-linecap:round; stroke-linejoin:round; stroke-width:2; stroke-opacity:0.1; fill:none\" points=\"169.121,804.099 2352.76,804.099 \"/>\n",
       "<polyline clip-path=\"url(#clip892)\" style=\"stroke:#000000; stroke-linecap:round; stroke-linejoin:round; stroke-width:2; stroke-opacity:0.1; fill:none\" points=\"169.121,592.345 2352.76,592.345 \"/>\n",
       "<polyline clip-path=\"url(#clip892)\" style=\"stroke:#000000; stroke-linecap:round; stroke-linejoin:round; stroke-width:2; stroke-opacity:0.1; fill:none\" points=\"169.121,380.59 2352.76,380.59 \"/>\n",
       "<polyline clip-path=\"url(#clip892)\" style=\"stroke:#000000; stroke-linecap:round; stroke-linejoin:round; stroke-width:2; stroke-opacity:0.1; fill:none\" points=\"169.121,168.836 2352.76,168.836 \"/>\n",
       "<polyline clip-path=\"url(#clip890)\" style=\"stroke:#000000; stroke-linecap:round; stroke-linejoin:round; stroke-width:4; stroke-opacity:1; fill:none\" points=\"169.121,1486.45 2352.76,1486.45 \"/>\n",
       "<polyline clip-path=\"url(#clip890)\" style=\"stroke:#000000; stroke-linecap:round; stroke-linejoin:round; stroke-width:4; stroke-opacity:1; fill:none\" points=\"230.922,1486.45 230.922,1467.55 \"/>\n",
       "<polyline clip-path=\"url(#clip890)\" style=\"stroke:#000000; stroke-linecap:round; stroke-linejoin:round; stroke-width:4; stroke-opacity:1; fill:none\" points=\"745.93,1486.45 745.93,1467.55 \"/>\n",
       "<polyline clip-path=\"url(#clip890)\" style=\"stroke:#000000; stroke-linecap:round; stroke-linejoin:round; stroke-width:4; stroke-opacity:1; fill:none\" points=\"1260.94,1486.45 1260.94,1467.55 \"/>\n",
       "<polyline clip-path=\"url(#clip890)\" style=\"stroke:#000000; stroke-linecap:round; stroke-linejoin:round; stroke-width:4; stroke-opacity:1; fill:none\" points=\"1775.95,1486.45 1775.95,1467.55 \"/>\n",
       "<polyline clip-path=\"url(#clip890)\" style=\"stroke:#000000; stroke-linecap:round; stroke-linejoin:round; stroke-width:4; stroke-opacity:1; fill:none\" points=\"2290.95,1486.45 2290.95,1467.55 \"/>\n",
       "<path clip-path=\"url(#clip890)\" d=\"M208.307 1517.37 Q204.696 1517.37 202.867 1520.93 Q201.061 1524.47 201.061 1531.6 Q201.061 1538.71 202.867 1542.27 Q204.696 1545.82 208.307 1545.82 Q211.941 1545.82 213.746 1542.27 Q215.575 1538.71 215.575 1531.6 Q215.575 1524.47 213.746 1520.93 Q211.941 1517.37 208.307 1517.37 M208.307 1513.66 Q214.117 1513.66 217.172 1518.27 Q220.251 1522.85 220.251 1531.6 Q220.251 1540.33 217.172 1544.94 Q214.117 1549.52 208.307 1549.52 Q202.497 1549.52 199.418 1544.94 Q196.362 1540.33 196.362 1531.6 Q196.362 1522.85 199.418 1518.27 Q202.497 1513.66 208.307 1513.66 Z\" fill=\"#000000\" fill-rule=\"nonzero\" fill-opacity=\"1\" /><path clip-path=\"url(#clip890)\" d=\"M228.469 1542.97 L233.353 1542.97 L233.353 1548.85 L228.469 1548.85 L228.469 1542.97 Z\" fill=\"#000000\" fill-rule=\"nonzero\" fill-opacity=\"1\" /><path clip-path=\"url(#clip890)\" d=\"M253.538 1517.37 Q249.927 1517.37 248.098 1520.93 Q246.293 1524.47 246.293 1531.6 Q246.293 1538.71 248.098 1542.27 Q249.927 1545.82 253.538 1545.82 Q257.172 1545.82 258.978 1542.27 Q260.806 1538.71 260.806 1531.6 Q260.806 1524.47 258.978 1520.93 Q257.172 1517.37 253.538 1517.37 M253.538 1513.66 Q259.348 1513.66 262.404 1518.27 Q265.482 1522.85 265.482 1531.6 Q265.482 1540.33 262.404 1544.94 Q259.348 1549.52 253.538 1549.52 Q247.728 1549.52 244.649 1544.94 Q241.594 1540.33 241.594 1531.6 Q241.594 1522.85 244.649 1518.27 Q247.728 1513.66 253.538 1513.66 Z\" fill=\"#000000\" fill-rule=\"nonzero\" fill-opacity=\"1\" /><path clip-path=\"url(#clip890)\" d=\"M717.667 1544.91 L733.986 1544.91 L733.986 1548.85 L712.042 1548.85 L712.042 1544.91 Q714.704 1542.16 719.287 1537.53 Q723.894 1532.88 725.074 1531.53 Q727.319 1529.01 728.199 1527.27 Q729.102 1525.51 729.102 1523.82 Q729.102 1521.07 727.157 1519.33 Q725.236 1517.6 722.134 1517.6 Q719.935 1517.6 717.482 1518.36 Q715.051 1519.13 712.273 1520.68 L712.273 1515.95 Q715.097 1514.82 717.551 1514.24 Q720.005 1513.66 722.042 1513.66 Q727.412 1513.66 730.606 1516.35 Q733.801 1519.03 733.801 1523.52 Q733.801 1525.65 732.991 1527.57 Q732.204 1529.47 730.097 1532.07 Q729.519 1532.74 726.417 1535.95 Q723.315 1539.15 717.667 1544.91 Z\" fill=\"#000000\" fill-rule=\"nonzero\" fill-opacity=\"1\" /><path clip-path=\"url(#clip890)\" d=\"M743.801 1542.97 L748.685 1542.97 L748.685 1548.85 L743.801 1548.85 L743.801 1542.97 Z\" fill=\"#000000\" fill-rule=\"nonzero\" fill-opacity=\"1\" /><path clip-path=\"url(#clip890)\" d=\"M758.916 1514.29 L777.273 1514.29 L777.273 1518.22 L763.199 1518.22 L763.199 1526.7 Q764.217 1526.35 765.236 1526.19 Q766.254 1526 767.273 1526 Q773.06 1526 776.44 1529.17 Q779.819 1532.34 779.819 1537.76 Q779.819 1543.34 776.347 1546.44 Q772.875 1549.52 766.555 1549.52 Q764.379 1549.52 762.111 1549.15 Q759.866 1548.78 757.458 1548.04 L757.458 1543.34 Q759.541 1544.47 761.764 1545.03 Q763.986 1545.58 766.463 1545.58 Q770.467 1545.58 772.805 1543.48 Q775.143 1541.37 775.143 1537.76 Q775.143 1534.15 772.805 1532.04 Q770.467 1529.94 766.463 1529.94 Q764.588 1529.94 762.713 1530.35 Q760.861 1530.77 758.916 1531.65 L758.916 1514.29 Z\" fill=\"#000000\" fill-rule=\"nonzero\" fill-opacity=\"1\" /><path clip-path=\"url(#clip890)\" d=\"M1228.1 1514.29 L1246.46 1514.29 L1246.46 1518.22 L1232.39 1518.22 L1232.39 1526.7 Q1233.4 1526.35 1234.42 1526.19 Q1235.44 1526 1236.46 1526 Q1242.25 1526 1245.63 1529.17 Q1249.01 1532.34 1249.01 1537.76 Q1249.01 1543.34 1245.53 1546.44 Q1242.06 1549.52 1235.74 1549.52 Q1233.57 1549.52 1231.3 1549.15 Q1229.05 1548.78 1226.64 1548.04 L1226.64 1543.34 Q1228.73 1544.47 1230.95 1545.03 Q1233.17 1545.58 1235.65 1545.58 Q1239.65 1545.58 1241.99 1543.48 Q1244.33 1541.37 1244.33 1537.76 Q1244.33 1534.15 1241.99 1532.04 Q1239.65 1529.94 1235.65 1529.94 Q1233.77 1529.94 1231.9 1530.35 Q1230.05 1530.77 1228.1 1531.65 L1228.1 1514.29 Z\" fill=\"#000000\" fill-rule=\"nonzero\" fill-opacity=\"1\" /><path clip-path=\"url(#clip890)\" d=\"M1258.22 1542.97 L1263.1 1542.97 L1263.1 1548.85 L1258.22 1548.85 L1258.22 1542.97 Z\" fill=\"#000000\" fill-rule=\"nonzero\" fill-opacity=\"1\" /><path clip-path=\"url(#clip890)\" d=\"M1283.29 1517.37 Q1279.68 1517.37 1277.85 1520.93 Q1276.04 1524.47 1276.04 1531.6 Q1276.04 1538.71 1277.85 1542.27 Q1279.68 1545.82 1283.29 1545.82 Q1286.92 1545.82 1288.73 1542.27 Q1290.56 1538.71 1290.56 1531.6 Q1290.56 1524.47 1288.73 1520.93 Q1286.92 1517.37 1283.29 1517.37 M1283.29 1513.66 Q1289.1 1513.66 1292.15 1518.27 Q1295.23 1522.85 1295.23 1531.6 Q1295.23 1540.33 1292.15 1544.94 Q1289.1 1549.52 1283.29 1549.52 Q1277.48 1549.52 1274.4 1544.94 Q1271.34 1540.33 1271.34 1531.6 Q1271.34 1522.85 1274.4 1518.27 Q1277.48 1513.66 1283.29 1513.66 Z\" fill=\"#000000\" fill-rule=\"nonzero\" fill-opacity=\"1\" /><path clip-path=\"url(#clip890)\" d=\"M1742.27 1514.29 L1764.49 1514.29 L1764.49 1516.28 L1751.94 1548.85 L1747.06 1548.85 L1758.86 1518.22 L1742.27 1518.22 L1742.27 1514.29 Z\" fill=\"#000000\" fill-rule=\"nonzero\" fill-opacity=\"1\" /><path clip-path=\"url(#clip890)\" d=\"M1773.61 1542.97 L1778.49 1542.97 L1778.49 1548.85 L1773.61 1548.85 L1773.61 1542.97 Z\" fill=\"#000000\" fill-rule=\"nonzero\" fill-opacity=\"1\" /><path clip-path=\"url(#clip890)\" d=\"M1788.72 1514.29 L1807.08 1514.29 L1807.08 1518.22 L1793.01 1518.22 L1793.01 1526.7 Q1794.03 1526.35 1795.04 1526.19 Q1796.06 1526 1797.08 1526 Q1802.87 1526 1806.25 1529.17 Q1809.63 1532.34 1809.63 1537.76 Q1809.63 1543.34 1806.15 1546.44 Q1802.68 1549.52 1796.36 1549.52 Q1794.19 1549.52 1791.92 1549.15 Q1789.67 1548.78 1787.27 1548.04 L1787.27 1543.34 Q1789.35 1544.47 1791.57 1545.03 Q1793.79 1545.58 1796.27 1545.58 Q1800.28 1545.58 1802.61 1543.48 Q1804.95 1541.37 1804.95 1537.76 Q1804.95 1534.15 1802.61 1532.04 Q1800.28 1529.94 1796.27 1529.94 Q1794.4 1529.94 1792.52 1530.35 Q1790.67 1530.77 1788.72 1531.65 L1788.72 1514.29 Z\" fill=\"#000000\" fill-rule=\"nonzero\" fill-opacity=\"1\" /><path clip-path=\"url(#clip890)\" d=\"M2243.03 1544.91 L2250.67 1544.91 L2250.67 1518.55 L2242.36 1520.21 L2242.36 1515.95 L2250.62 1514.29 L2255.3 1514.29 L2255.3 1544.91 L2262.93 1544.91 L2262.93 1548.85 L2243.03 1548.85 L2243.03 1544.91 Z\" fill=\"#000000\" fill-rule=\"nonzero\" fill-opacity=\"1\" /><path clip-path=\"url(#clip890)\" d=\"M2282.38 1517.37 Q2278.77 1517.37 2276.94 1520.93 Q2275.13 1524.47 2275.13 1531.6 Q2275.13 1538.71 2276.94 1542.27 Q2278.77 1545.82 2282.38 1545.82 Q2286.01 1545.82 2287.82 1542.27 Q2289.65 1538.71 2289.65 1531.6 Q2289.65 1524.47 2287.82 1520.93 Q2286.01 1517.37 2282.38 1517.37 M2282.38 1513.66 Q2288.19 1513.66 2291.24 1518.27 Q2294.32 1522.85 2294.32 1531.6 Q2294.32 1540.33 2291.24 1544.94 Q2288.19 1549.52 2282.38 1549.52 Q2276.57 1549.52 2273.49 1544.94 Q2270.43 1540.33 2270.43 1531.6 Q2270.43 1522.85 2273.49 1518.27 Q2276.57 1513.66 2282.38 1513.66 Z\" fill=\"#000000\" fill-rule=\"nonzero\" fill-opacity=\"1\" /><path clip-path=\"url(#clip890)\" d=\"M2302.54 1542.97 L2307.42 1542.97 L2307.42 1548.85 L2302.54 1548.85 L2302.54 1542.97 Z\" fill=\"#000000\" fill-rule=\"nonzero\" fill-opacity=\"1\" /><path clip-path=\"url(#clip890)\" d=\"M2327.61 1517.37 Q2324 1517.37 2322.17 1520.93 Q2320.36 1524.47 2320.36 1531.6 Q2320.36 1538.71 2322.17 1542.27 Q2324 1545.82 2327.61 1545.82 Q2331.24 1545.82 2333.05 1542.27 Q2334.88 1538.71 2334.88 1531.6 Q2334.88 1524.47 2333.05 1520.93 Q2331.24 1517.37 2327.61 1517.37 M2327.61 1513.66 Q2333.42 1513.66 2336.48 1518.27 Q2339.55 1522.85 2339.55 1531.6 Q2339.55 1540.33 2336.48 1544.94 Q2333.42 1549.52 2327.61 1549.52 Q2321.8 1549.52 2318.72 1544.94 Q2315.67 1540.33 2315.67 1531.6 Q2315.67 1522.85 2318.72 1518.27 Q2321.8 1513.66 2327.61 1513.66 Z\" fill=\"#000000\" fill-rule=\"nonzero\" fill-opacity=\"1\" /><polyline clip-path=\"url(#clip890)\" style=\"stroke:#000000; stroke-linecap:round; stroke-linejoin:round; stroke-width:4; stroke-opacity:1; fill:none\" points=\"169.121,1486.45 169.121,47.2441 \"/>\n",
       "<polyline clip-path=\"url(#clip890)\" style=\"stroke:#000000; stroke-linecap:round; stroke-linejoin:round; stroke-width:4; stroke-opacity:1; fill:none\" points=\"169.121,1439.36 188.019,1439.36 \"/>\n",
       "<polyline clip-path=\"url(#clip890)\" style=\"stroke:#000000; stroke-linecap:round; stroke-linejoin:round; stroke-width:4; stroke-opacity:1; fill:none\" points=\"169.121,1227.61 188.019,1227.61 \"/>\n",
       "<polyline clip-path=\"url(#clip890)\" style=\"stroke:#000000; stroke-linecap:round; stroke-linejoin:round; stroke-width:4; stroke-opacity:1; fill:none\" points=\"169.121,1015.85 188.019,1015.85 \"/>\n",
       "<polyline clip-path=\"url(#clip890)\" style=\"stroke:#000000; stroke-linecap:round; stroke-linejoin:round; stroke-width:4; stroke-opacity:1; fill:none\" points=\"169.121,804.099 188.019,804.099 \"/>\n",
       "<polyline clip-path=\"url(#clip890)\" style=\"stroke:#000000; stroke-linecap:round; stroke-linejoin:round; stroke-width:4; stroke-opacity:1; fill:none\" points=\"169.121,592.345 188.019,592.345 \"/>\n",
       "<polyline clip-path=\"url(#clip890)\" style=\"stroke:#000000; stroke-linecap:round; stroke-linejoin:round; stroke-width:4; stroke-opacity:1; fill:none\" points=\"169.121,380.59 188.019,380.59 \"/>\n",
       "<polyline clip-path=\"url(#clip890)\" style=\"stroke:#000000; stroke-linecap:round; stroke-linejoin:round; stroke-width:4; stroke-opacity:1; fill:none\" points=\"169.121,168.836 188.019,168.836 \"/>\n",
       "<path clip-path=\"url(#clip890)\" d=\"M121.177 1425.16 Q117.566 1425.16 115.737 1428.73 Q113.932 1432.27 113.932 1439.4 Q113.932 1446.5 115.737 1450.07 Q117.566 1453.61 121.177 1453.61 Q124.811 1453.61 126.617 1450.07 Q128.445 1446.5 128.445 1439.4 Q128.445 1432.27 126.617 1428.73 Q124.811 1425.16 121.177 1425.16 M121.177 1421.46 Q126.987 1421.46 130.043 1426.06 Q133.121 1430.65 133.121 1439.4 Q133.121 1448.12 130.043 1452.73 Q126.987 1457.31 121.177 1457.31 Q115.367 1457.31 112.288 1452.73 Q109.233 1448.12 109.233 1439.4 Q109.233 1430.65 112.288 1426.06 Q115.367 1421.46 121.177 1421.46 Z\" fill=\"#000000\" fill-rule=\"nonzero\" fill-opacity=\"1\" /><path clip-path=\"url(#clip890)\" d=\"M85.0429 1240.95 L101.362 1240.95 L101.362 1244.89 L79.4179 1244.89 L79.4179 1240.95 Q82.0799 1238.2 86.6632 1233.57 Q91.2697 1228.92 92.4502 1227.57 Q94.6956 1225.05 95.5752 1223.31 Q96.478 1221.56 96.478 1219.87 Q96.478 1217.11 94.5336 1215.37 Q92.6123 1213.64 89.5104 1213.64 Q87.3114 1213.64 84.8577 1214.4 Q82.4271 1215.17 79.6494 1216.72 L79.6494 1212 Q82.4734 1210.86 84.9271 1210.28 Q87.3808 1209.7 89.4178 1209.7 Q94.7882 1209.7 97.9826 1212.39 Q101.177 1215.07 101.177 1219.56 Q101.177 1221.69 100.367 1223.62 Q99.5798 1225.51 97.4734 1228.11 Q96.8947 1228.78 93.7928 1232 Q90.691 1235.19 85.0429 1240.95 Z\" fill=\"#000000\" fill-rule=\"nonzero\" fill-opacity=\"1\" /><path clip-path=\"url(#clip890)\" d=\"M121.177 1213.41 Q117.566 1213.41 115.737 1216.97 Q113.932 1220.51 113.932 1227.64 Q113.932 1234.75 115.737 1238.31 Q117.566 1241.86 121.177 1241.86 Q124.811 1241.86 126.617 1238.31 Q128.445 1234.75 128.445 1227.64 Q128.445 1220.51 126.617 1216.97 Q124.811 1213.41 121.177 1213.41 M121.177 1209.7 Q126.987 1209.7 130.043 1214.31 Q133.121 1218.89 133.121 1227.64 Q133.121 1236.37 130.043 1240.98 Q126.987 1245.56 121.177 1245.56 Q115.367 1245.56 112.288 1240.98 Q109.233 1236.37 109.233 1227.64 Q109.233 1218.89 112.288 1214.31 Q115.367 1209.7 121.177 1209.7 Z\" fill=\"#000000\" fill-rule=\"nonzero\" fill-opacity=\"1\" /><path clip-path=\"url(#clip890)\" d=\"M93.8623 1002.65 L82.0568 1021.1 L93.8623 1021.1 L93.8623 1002.65 M92.6354 998.574 L98.515 998.574 L98.515 1021.1 L103.446 1021.1 L103.446 1024.99 L98.515 1024.99 L98.515 1033.13 L93.8623 1033.13 L93.8623 1024.99 L78.2605 1024.99 L78.2605 1020.47 L92.6354 998.574 Z\" fill=\"#000000\" fill-rule=\"nonzero\" fill-opacity=\"1\" /><path clip-path=\"url(#clip890)\" d=\"M121.177 1001.65 Q117.566 1001.65 115.737 1005.22 Q113.932 1008.76 113.932 1015.89 Q113.932 1023 115.737 1026.56 Q117.566 1030.1 121.177 1030.1 Q124.811 1030.1 126.617 1026.56 Q128.445 1023 128.445 1015.89 Q128.445 1008.76 126.617 1005.22 Q124.811 1001.65 121.177 1001.65 M121.177 997.949 Q126.987 997.949 130.043 1002.56 Q133.121 1007.14 133.121 1015.89 Q133.121 1024.62 130.043 1029.22 Q126.987 1033.81 121.177 1033.81 Q115.367 1033.81 112.288 1029.22 Q109.233 1024.62 109.233 1015.89 Q109.233 1007.14 112.288 1002.56 Q115.367 997.949 121.177 997.949 Z\" fill=\"#000000\" fill-rule=\"nonzero\" fill-opacity=\"1\" /><path clip-path=\"url(#clip890)\" d=\"M91.5938 802.236 Q88.4456 802.236 86.5938 804.389 Q84.7651 806.542 84.7651 810.292 Q84.7651 814.018 86.5938 816.194 Q88.4456 818.347 91.5938 818.347 Q94.7419 818.347 96.5706 816.194 Q98.4224 814.018 98.4224 810.292 Q98.4224 806.542 96.5706 804.389 Q94.7419 802.236 91.5938 802.236 M100.876 787.583 L100.876 791.843 Q99.1169 791.009 97.3113 790.569 Q95.5289 790.13 93.7697 790.13 Q89.1401 790.13 86.6864 793.255 Q84.2558 796.38 83.9086 802.699 Q85.2743 800.685 87.3345 799.62 Q89.3947 798.532 91.8715 798.532 Q97.0798 798.532 100.089 801.704 Q103.121 804.852 103.121 810.292 Q103.121 815.616 99.9733 818.833 Q96.8252 822.051 91.5938 822.051 Q85.5984 822.051 82.4271 817.467 Q79.2559 812.861 79.2559 804.134 Q79.2559 795.94 83.1447 791.079 Q87.0336 786.194 93.5845 786.194 Q95.3437 786.194 97.1261 786.542 Q98.9317 786.889 100.876 787.583 Z\" fill=\"#000000\" fill-rule=\"nonzero\" fill-opacity=\"1\" /><path clip-path=\"url(#clip890)\" d=\"M121.177 789.898 Q117.566 789.898 115.737 793.463 Q113.932 797.005 113.932 804.134 Q113.932 811.241 115.737 814.805 Q117.566 818.347 121.177 818.347 Q124.811 818.347 126.617 814.805 Q128.445 811.241 128.445 804.134 Q128.445 797.005 126.617 793.463 Q124.811 789.898 121.177 789.898 M121.177 786.194 Q126.987 786.194 130.043 790.801 Q133.121 795.384 133.121 804.134 Q133.121 812.861 130.043 817.467 Q126.987 822.051 121.177 822.051 Q115.367 822.051 112.288 817.467 Q109.233 812.861 109.233 804.134 Q109.233 795.384 112.288 790.801 Q115.367 786.194 121.177 786.194 Z\" fill=\"#000000\" fill-rule=\"nonzero\" fill-opacity=\"1\" /><path clip-path=\"url(#clip890)\" d=\"M91.0151 593.213 Q87.6817 593.213 85.7605 594.995 Q83.8623 596.778 83.8623 599.903 Q83.8623 603.028 85.7605 604.81 Q87.6817 606.592 91.0151 606.592 Q94.3484 606.592 96.2697 604.81 Q98.1909 603.004 98.1909 599.903 Q98.1909 596.778 96.2697 594.995 Q94.3715 593.213 91.0151 593.213 M86.3392 591.222 Q83.3299 590.481 81.6401 588.421 Q79.9735 586.361 79.9735 583.398 Q79.9735 579.255 82.9133 576.847 Q85.8762 574.44 91.0151 574.44 Q96.1771 574.44 99.1169 576.847 Q102.057 579.255 102.057 583.398 Q102.057 586.361 100.367 588.421 Q98.7002 590.481 95.7141 591.222 Q99.0937 592.009 100.969 594.301 Q102.867 596.592 102.867 599.903 Q102.867 604.926 99.7882 607.611 Q96.7326 610.296 91.0151 610.296 Q85.2975 610.296 82.2188 607.611 Q79.1633 604.926 79.1633 599.903 Q79.1633 596.592 81.0614 594.301 Q82.9595 592.009 86.3392 591.222 M84.6262 583.838 Q84.6262 586.523 86.2929 588.028 Q87.9827 589.532 91.0151 589.532 Q94.0243 589.532 95.7141 588.028 Q97.4271 586.523 97.4271 583.838 Q97.4271 581.153 95.7141 579.648 Q94.0243 578.144 91.0151 578.144 Q87.9827 578.144 86.2929 579.648 Q84.6262 581.153 84.6262 583.838 Z\" fill=\"#000000\" fill-rule=\"nonzero\" fill-opacity=\"1\" /><path clip-path=\"url(#clip890)\" d=\"M121.177 578.144 Q117.566 578.144 115.737 581.708 Q113.932 585.25 113.932 592.38 Q113.932 599.486 115.737 603.051 Q117.566 606.592 121.177 606.592 Q124.811 606.592 126.617 603.051 Q128.445 599.486 128.445 592.38 Q128.445 585.25 126.617 581.708 Q124.811 578.144 121.177 578.144 M121.177 574.44 Q126.987 574.44 130.043 579.046 Q133.121 583.63 133.121 592.38 Q133.121 601.106 130.043 605.713 Q126.987 610.296 121.177 610.296 Q115.367 610.296 112.288 605.713 Q109.233 601.106 109.233 592.38 Q109.233 583.63 112.288 579.046 Q115.367 574.44 121.177 574.44 Z\" fill=\"#000000\" fill-rule=\"nonzero\" fill-opacity=\"1\" /><path clip-path=\"url(#clip890)\" d=\"M51.6634 393.935 L59.3023 393.935 L59.3023 367.569 L50.9921 369.236 L50.9921 364.977 L59.256 363.31 L63.9319 363.31 L63.9319 393.935 L71.5707 393.935 L71.5707 397.87 L51.6634 397.87 L51.6634 393.935 Z\" fill=\"#000000\" fill-rule=\"nonzero\" fill-opacity=\"1\" /><path clip-path=\"url(#clip890)\" d=\"M91.0151 366.389 Q87.404 366.389 85.5753 369.954 Q83.7697 373.495 83.7697 380.625 Q83.7697 387.731 85.5753 391.296 Q87.404 394.838 91.0151 394.838 Q94.6493 394.838 96.4548 391.296 Q98.2835 387.731 98.2835 380.625 Q98.2835 373.495 96.4548 369.954 Q94.6493 366.389 91.0151 366.389 M91.0151 362.685 Q96.8252 362.685 99.8808 367.292 Q102.959 371.875 102.959 380.625 Q102.959 389.352 99.8808 393.958 Q96.8252 398.542 91.0151 398.542 Q85.2049 398.542 82.1262 393.958 Q79.0707 389.352 79.0707 380.625 Q79.0707 371.875 82.1262 367.292 Q85.2049 362.685 91.0151 362.685 Z\" fill=\"#000000\" fill-rule=\"nonzero\" fill-opacity=\"1\" /><path clip-path=\"url(#clip890)\" d=\"M121.177 366.389 Q117.566 366.389 115.737 369.954 Q113.932 373.495 113.932 380.625 Q113.932 387.731 115.737 391.296 Q117.566 394.838 121.177 394.838 Q124.811 394.838 126.617 391.296 Q128.445 387.731 128.445 380.625 Q128.445 373.495 126.617 369.954 Q124.811 366.389 121.177 366.389 M121.177 362.685 Q126.987 362.685 130.043 367.292 Q133.121 371.875 133.121 380.625 Q133.121 389.352 130.043 393.958 Q126.987 398.542 121.177 398.542 Q115.367 398.542 112.288 393.958 Q109.233 389.352 109.233 380.625 Q109.233 371.875 112.288 367.292 Q115.367 362.685 121.177 362.685 Z\" fill=\"#000000\" fill-rule=\"nonzero\" fill-opacity=\"1\" /><path clip-path=\"url(#clip890)\" d=\"M51.6634 182.18 L59.3023 182.18 L59.3023 155.815 L50.9921 157.481 L50.9921 153.222 L59.256 151.556 L63.9319 151.556 L63.9319 182.18 L71.5707 182.18 L71.5707 186.116 L51.6634 186.116 L51.6634 182.18 Z\" fill=\"#000000\" fill-rule=\"nonzero\" fill-opacity=\"1\" /><path clip-path=\"url(#clip890)\" d=\"M85.0429 182.18 L101.362 182.18 L101.362 186.116 L79.4179 186.116 L79.4179 182.18 Q82.0799 179.426 86.6632 174.796 Q91.2697 170.143 92.4502 168.801 Q94.6956 166.278 95.5752 164.542 Q96.478 162.782 96.478 161.093 Q96.478 158.338 94.5336 156.602 Q92.6123 154.866 89.5104 154.866 Q87.3114 154.866 84.8577 155.63 Q82.4271 156.394 79.6494 157.944 L79.6494 153.222 Q82.4734 152.088 84.9271 151.509 Q87.3808 150.931 89.4178 150.931 Q94.7882 150.931 97.9826 153.616 Q101.177 156.301 101.177 160.792 Q101.177 162.921 100.367 164.843 Q99.5798 166.741 97.4734 169.333 Q96.8947 170.005 93.7928 173.222 Q90.691 176.417 85.0429 182.18 Z\" fill=\"#000000\" fill-rule=\"nonzero\" fill-opacity=\"1\" /><path clip-path=\"url(#clip890)\" d=\"M121.177 154.634 Q117.566 154.634 115.737 158.199 Q113.932 161.741 113.932 168.87 Q113.932 175.977 115.737 179.542 Q117.566 183.083 121.177 183.083 Q124.811 183.083 126.617 179.542 Q128.445 175.977 128.445 168.87 Q128.445 161.741 126.617 158.199 Q124.811 154.634 121.177 154.634 M121.177 150.931 Q126.987 150.931 130.043 155.537 Q133.121 160.12 133.121 168.87 Q133.121 177.597 130.043 182.204 Q126.987 186.787 121.177 186.787 Q115.367 186.787 112.288 182.204 Q109.233 177.597 109.233 168.87 Q109.233 160.12 112.288 155.537 Q115.367 150.931 121.177 150.931 Z\" fill=\"#000000\" fill-rule=\"nonzero\" fill-opacity=\"1\" /><polyline clip-path=\"url(#clip892)\" style=\"stroke:#009af9; stroke-linecap:round; stroke-linejoin:round; stroke-width:4; stroke-opacity:1; fill:none\" points=\"230.922,1435.13 239.001,1427.65 247.079,1424.54 255.158,1427.62 263.237,1435.08 271.315,1442.57 279.394,1445.72 287.472,1442.67 295.551,1435.22 303.629,1427.71 311.708,1424.54 319.786,1427.55 327.865,1434.99 335.944,1442.51 344.022,1445.71 352.101,1442.74 360.179,1435.31 368.258,1427.78 376.336,1424.54 384.415,1427.49 392.493,1434.9 400.572,1442.44 408.651,1445.71 416.729,1442.8 424.808,1435.4 432.886,1427.85 440.965,1424.54 449.043,1427.43 457.122,1434.81 465.201,1442.38 473.279,1445.71 481.358,1442.86 489.436,1435.5 497.515,1427.91 505.593,1424.55 513.672,1427.36 521.75,1434.71 529.829,1442.31 537.908,1445.71 545.986,1442.92 554.065,1435.59 562.143,1427.98 570.222,1424.55 578.3,1427.3 586.379,1434.62 594.457,1442.24 602.536,1445.7 610.615,1442.99 618.693,1435.68 626.772,1428.05 634.85,1424.56 642.929,1427.24 651.007,1434.53 659.086,1442.17 667.164,1445.7 675.243,1443.05 683.322,1435.77 691.4,1428.12 699.479,1424.56 707.557,1427.18 715.636,1434.44 723.714,1442.1 731.793,1445.69 739.872,1443.11 747.95,1435.86 756.029,1428.19 764.107,1424.57 772.186,1427.12 780.264,1434.35 788.343,1442.03 796.421,1445.69 804.5,1443.17 812.579,1435.95 820.657,1428.26 828.736,1424.57 836.814,1427.06 844.893,1434.26 852.971,1441.96 861.05,1445.68 869.128,1443.23 877.207,1436.05 885.286,1428.33 893.364,1424.58 901.443,1427 909.521,1434.17 917.6,1441.89 925.678,1445.67 933.757,1443.29 941.836,1436.14 949.914,1428.4 957.993,1424.59 966.071,1426.94 974.15,1434.07 982.228,1441.82 990.307,1445.66 998.385,1443.35 1006.46,1436.23 1014.54,1428.47 1022.62,1424.6 1030.7,1426.88 1038.78,1433.98 1046.86,1441.75 1054.94,1445.65 1063.01,1443.4 1071.09,1436.32 1079.17,1428.54 1087.25,1424.61 1095.33,1426.83 1103.41,1433.89 1111.49,1441.68 1119.56,1445.64 1127.64,1443.46 1135.72,1436.41 1143.8,1428.61 1151.88,1424.62 1159.96,1426.77 1168.04,1433.8 1176.11,1441.61 1184.19,1445.63 1192.27,1443.52 1200.35,1436.5 1208.43,1428.69 1216.51,1424.63 1224.59,1426.71 1232.66,1433.71 1240.74,1441.53 1248.82,1445.62 1256.9,1443.57 1264.98,1436.59 1273.06,1428.76 1281.14,1424.65 1289.21,1426.66 1297.29,1433.62 1305.37,1441.46 1313.45,1445.6 1321.53,1443.63 1329.61,1436.68 1337.68,1428.83 1345.76,1424.66 1353.84,1426.6 1361.92,1433.53 1370,1441.39 1378.08,1445.59 1386.16,1443.68 1394.23,1436.77 1402.31,1428.91 1410.39,1424.67 1418.47,1426.55 1426.55,1433.44 1434.63,1441.31 1442.71,1445.58 1450.78,1443.74 1458.86,1436.87 1466.94,1428.98 1475.02,1424.69 1483.1,1426.49 1491.18,1433.35 1499.26,1441.24 1507.33,1445.56 1515.41,1443.79 1523.49,1436.96 1531.57,1429.06 1539.65,1424.7 1547.73,1426.44 1555.81,1433.26 1563.88,1441.16 1571.96,1445.54 1580.04,1443.84 1588.12,1437.05 1596.2,1429.13 1604.28,1424.72 1612.36,1426.39 1620.43,1433.16 1628.51,1441.09 1636.59,1445.53 1644.67,1443.89 1652.75,1437.14 1660.83,1429.21 1668.91,1424.74 1676.98,1426.34 1685.06,1433.07 1693.14,1441.01 1701.22,1445.51 1709.3,1443.94 1717.38,1437.23 1725.46,1429.28 1733.53,1424.76 1741.61,1426.29 1749.69,1432.98 1757.77,1440.93 1765.85,1445.49 1773.93,1443.99 1782.01,1437.32 1790.08,1429.36 1798.16,1424.77 1806.24,1426.24 1814.32,1432.89 1822.4,1440.86 1830.48,1445.47 1838.56,1444.04 1846.63,1437.41 1854.71,1429.44 1862.79,1424.79 1870.87,1426.19 1878.95,1432.8 1887.03,1440.78 1895.11,1445.45 1903.18,1444.09 1911.26,1437.5 1919.34,1429.52 1927.42,1424.81 1935.5,1426.14 1943.58,1432.72 1951.66,1440.7 1959.73,1445.43 1967.81,1444.14 1975.89,1437.59 1983.97,1429.59 1992.05,1424.83 2000.13,1426.09 2008.21,1432.63 2016.28,1440.62 2024.36,1445.41 2032.44,1444.19 2040.52,1437.67 2048.6,1429.67 2056.68,1424.86 2064.76,1426.04 2072.83,1432.54 2080.91,1440.55 2088.99,1445.39 2097.07,1444.24 2105.15,1437.76 2113.23,1429.75 2121.31,1424.88 2129.38,1426 2137.46,1432.45 2145.54,1440.47 2153.62,1445.37 2161.7,1444.28 2169.78,1437.85 2177.86,1429.83 2185.93,1424.9 2194.01,1425.95 2202.09,1432.36 2210.17,1440.39 2218.25,1445.34 2226.33,1444.33 2234.41,1437.94 2242.48,1429.91 2250.56,1424.93 2258.64,1425.9 2266.72,1432.27 2274.8,1440.31 2282.88,1445.32 2290.95,1444.37 \"/>\n",
       "<polyline clip-path=\"url(#clip892)\" style=\"stroke:#e26f46; stroke-linecap:round; stroke-linejoin:round; stroke-width:4; stroke-opacity:1; fill:none\" points=\"230.922,1438 239.001,1438 247.079,1438 255.158,1437.99 263.237,1437.99 271.315,1437.99 279.394,1437.99 287.472,1437.99 295.551,1437.99 303.629,1437.98 311.708,1437.98 319.786,1437.98 327.865,1437.98 335.944,1437.97 344.022,1437.97 352.101,1437.96 360.179,1437.96 368.258,1437.95 376.336,1437.95 384.415,1437.94 392.493,1437.94 400.572,1437.93 408.651,1437.92 416.729,1437.92 424.808,1437.91 432.886,1437.9 440.965,1437.89 449.043,1437.88 457.122,1437.87 465.201,1437.86 473.279,1437.85 481.358,1437.84 489.436,1437.83 497.515,1437.82 505.593,1437.81 513.672,1437.79 521.75,1437.78 529.829,1437.77 537.908,1437.75 545.986,1437.74 554.065,1437.72 562.143,1437.7 570.222,1437.69 578.3,1437.67 586.379,1437.65 594.457,1437.63 602.536,1437.61 610.615,1437.58 618.693,1437.56 626.772,1437.54 634.85,1437.51 642.929,1437.48 651.007,1437.45 659.086,1437.42 667.164,1437.39 675.243,1437.36 683.322,1437.33 691.4,1437.29 699.479,1437.25 707.557,1437.21 715.636,1437.17 723.714,1437.12 731.793,1437.07 739.872,1437.02 747.95,1436.96 756.029,1436.9 764.107,1436.84 772.186,1436.77 780.264,1436.7 788.343,1436.62 796.421,1436.54 804.5,1436.45 812.579,1436.35 820.657,1436.24 828.736,1436.13 836.814,1436 844.893,1435.86 852.971,1435.7 861.05,1435.53 869.128,1435.34 877.207,1435.12 885.286,1434.87 893.364,1434.59 901.443,1434.27 909.521,1433.89 917.6,1433.44 925.678,1432.9 933.757,1432.25 941.836,1431.43 949.914,1430.37 957.993,1428.97 966.071,1427.02 974.15,1424.09 982.228,1419.25 990.307,1409.66 998.385,1381.69 1006.46,87.9763 1014.54,1377.42 1022.62,1409.35 1030.7,1419.67 1038.78,1424.77 1046.86,1427.81 1054.94,1429.83 1063.01,1431.27 1071.09,1432.34 1079.17,1433.17 1087.25,1433.83 1095.33,1434.38 1103.41,1434.82 1111.49,1435.2 1119.56,1435.52 1127.64,1435.8 1135.72,1436.04 1143.8,1436.24 1151.88,1436.42 1159.96,1436.58 1168.04,1436.72 1176.11,1436.85 1184.19,1436.96 1192.27,1437.05 1200.35,1437.13 1208.43,1437.2 1216.51,1437.26 1224.59,1437.31 1232.66,1437.35 1240.74,1437.38 1248.82,1437.4 1256.9,1437.42 1264.98,353.239 1273.06,1437.42 1281.14,1437.4 1289.21,1437.38 1297.29,1437.35 1305.37,1437.31 1313.45,1437.26 1321.53,1437.2 1329.61,1437.13 1337.68,1437.05 1345.76,1436.96 1353.84,1436.85 1361.92,1436.72 1370,1436.58 1378.08,1436.42 1386.16,1436.24 1394.23,1436.04 1402.31,1435.8 1410.39,1435.52 1418.47,1435.2 1426.55,1434.82 1434.63,1434.38 1442.71,1433.83 1450.78,1433.17 1458.86,1432.34 1466.94,1431.27 1475.02,1429.83 1483.1,1427.81 1491.18,1424.77 1499.26,1419.67 1507.33,1409.35 1515.41,1377.42 1523.49,87.9763 1531.57,1381.69 1539.65,1409.66 1547.73,1419.25 1555.81,1424.09 1563.88,1427.02 1571.96,1428.97 1580.04,1430.37 1588.12,1431.43 1596.2,1432.25 1604.28,1432.9 1612.36,1433.44 1620.43,1433.89 1628.51,1434.27 1636.59,1434.59 1644.67,1434.87 1652.75,1435.12 1660.83,1435.34 1668.91,1435.53 1676.98,1435.7 1685.06,1435.86 1693.14,1436 1701.22,1436.13 1709.3,1436.24 1717.38,1436.35 1725.46,1436.45 1733.53,1436.54 1741.61,1436.62 1749.69,1436.7 1757.77,1436.77 1765.85,1436.84 1773.93,1436.9 1782.01,1436.96 1790.08,1437.02 1798.16,1437.07 1806.24,1437.12 1814.32,1437.17 1822.4,1437.21 1830.48,1437.25 1838.56,1437.29 1846.63,1437.33 1854.71,1437.36 1862.79,1437.39 1870.87,1437.42 1878.95,1437.45 1887.03,1437.48 1895.11,1437.51 1903.18,1437.54 1911.26,1437.56 1919.34,1437.58 1927.42,1437.61 1935.5,1437.63 1943.58,1437.65 1951.66,1437.67 1959.73,1437.69 1967.81,1437.7 1975.89,1437.72 1983.97,1437.74 1992.05,1437.75 2000.13,1437.77 2008.21,1437.78 2016.28,1437.79 2024.36,1437.81 2032.44,1437.82 2040.52,1437.83 2048.6,1437.84 2056.68,1437.85 2064.76,1437.86 2072.83,1437.87 2080.91,1437.88 2088.99,1437.89 2097.07,1437.9 2105.15,1437.91 2113.23,1437.92 2121.31,1437.92 2129.38,1437.93 2137.46,1437.94 2145.54,1437.94 2153.62,1437.95 2161.7,1437.95 2169.78,1437.96 2177.86,1437.96 2185.93,1437.97 2194.01,1437.97 2202.09,1437.98 2210.17,1437.98 2218.25,1437.98 2226.33,1437.98 2234.41,1437.99 2242.48,1437.99 2250.56,1437.99 2258.64,1437.99 2266.72,1437.99 2274.8,1437.99 2282.88,1438 2290.95,1438 \"/>\n",
       "<path clip-path=\"url(#clip890)\" d=\"M1961.74 250.738 L2279.97 250.738 L2279.97 95.2176 L1961.74 95.2176  Z\" fill=\"#ffffff\" fill-rule=\"evenodd\" fill-opacity=\"1\"/>\n",
       "<polyline clip-path=\"url(#clip890)\" style=\"stroke:#000000; stroke-linecap:round; stroke-linejoin:round; stroke-width:4; stroke-opacity:1; fill:none\" points=\"1961.74,250.738 2279.97,250.738 2279.97,95.2176 1961.74,95.2176 1961.74,250.738 \"/>\n",
       "<polyline clip-path=\"url(#clip890)\" style=\"stroke:#009af9; stroke-linecap:round; stroke-linejoin:round; stroke-width:4; stroke-opacity:1; fill:none\" points=\"1986.01,147.058 2131.58,147.058 \"/>\n",
       "<path clip-path=\"url(#clip890)\" d=\"M2174.76 142.347 L2174.76 128.319 L2179.02 128.319 L2179.02 164.338 L2174.76 164.338 L2174.76 160.449 Q2173.41 162.763 2171.35 163.898 Q2169.32 165.009 2166.45 165.009 Q2161.75 165.009 2158.78 161.259 Q2155.84 157.509 2155.84 151.398 Q2155.84 145.287 2158.78 141.537 Q2161.75 137.787 2166.45 137.787 Q2169.32 137.787 2171.35 138.921 Q2173.41 140.032 2174.76 142.347 M2160.24 151.398 Q2160.24 156.097 2162.16 158.782 Q2164.11 161.444 2167.49 161.444 Q2170.87 161.444 2172.81 158.782 Q2174.76 156.097 2174.76 151.398 Q2174.76 146.699 2172.81 144.037 Q2170.87 141.352 2167.49 141.352 Q2164.11 141.352 2162.16 144.037 Q2160.24 146.699 2160.24 151.398 Z\" fill=\"#000000\" fill-rule=\"nonzero\" fill-opacity=\"1\" /><path clip-path=\"url(#clip890)\" d=\"M2199.57 151.305 Q2194.41 151.305 2192.42 152.486 Q2190.43 153.666 2190.43 156.514 Q2190.43 158.782 2191.91 160.125 Q2193.41 161.444 2195.98 161.444 Q2199.53 161.444 2201.65 158.944 Q2203.81 156.421 2203.81 152.254 L2203.81 151.305 L2199.57 151.305 M2208.07 149.546 L2208.07 164.338 L2203.81 164.338 L2203.81 160.402 Q2202.35 162.763 2200.17 163.898 Q2198 165.009 2194.85 165.009 Q2190.87 165.009 2188.51 162.787 Q2186.17 160.541 2186.17 156.791 Q2186.17 152.416 2189.09 150.194 Q2192.03 147.972 2197.84 147.972 L2203.81 147.972 L2203.81 147.555 Q2203.81 144.615 2201.86 143.018 Q2199.94 141.398 2196.45 141.398 Q2194.22 141.398 2192.12 141.93 Q2190.01 142.463 2188.07 143.527 L2188.07 139.592 Q2190.4 138.69 2192.6 138.25 Q2194.8 137.787 2196.89 137.787 Q2202.51 137.787 2205.29 140.703 Q2208.07 143.62 2208.07 149.546 Z\" fill=\"#000000\" fill-rule=\"nonzero\" fill-opacity=\"1\" /><path clip-path=\"url(#clip890)\" d=\"M2221.05 131.051 L2221.05 138.412 L2229.83 138.412 L2229.83 141.722 L2221.05 141.722 L2221.05 155.796 Q2221.05 158.967 2221.91 159.87 Q2222.79 160.773 2225.45 160.773 L2229.83 160.773 L2229.83 164.338 L2225.45 164.338 Q2220.52 164.338 2218.65 162.509 Q2216.77 160.657 2216.77 155.796 L2216.77 141.722 L2213.65 141.722 L2213.65 138.412 L2216.77 138.412 L2216.77 131.051 L2221.05 131.051 Z\" fill=\"#000000\" fill-rule=\"nonzero\" fill-opacity=\"1\" /><path clip-path=\"url(#clip890)\" d=\"M2247.21 151.305 Q2242.05 151.305 2240.06 152.486 Q2238.07 153.666 2238.07 156.514 Q2238.07 158.782 2239.55 160.125 Q2241.05 161.444 2243.62 161.444 Q2247.16 161.444 2249.29 158.944 Q2251.45 156.421 2251.45 152.254 L2251.45 151.305 L2247.21 151.305 M2255.71 149.546 L2255.71 164.338 L2251.45 164.338 L2251.45 160.402 Q2249.99 162.763 2247.81 163.898 Q2245.64 165.009 2242.49 165.009 Q2238.51 165.009 2236.15 162.787 Q2233.81 160.541 2233.81 156.791 Q2233.81 152.416 2236.72 150.194 Q2239.66 147.972 2245.47 147.972 L2251.45 147.972 L2251.45 147.555 Q2251.45 144.615 2249.5 143.018 Q2247.58 141.398 2244.09 141.398 Q2241.86 141.398 2239.76 141.93 Q2237.65 142.463 2235.71 143.527 L2235.71 139.592 Q2238.04 138.69 2240.24 138.25 Q2242.44 137.787 2244.52 137.787 Q2250.15 137.787 2252.93 140.703 Q2255.71 143.62 2255.71 149.546 Z\" fill=\"#000000\" fill-rule=\"nonzero\" fill-opacity=\"1\" /><polyline clip-path=\"url(#clip890)\" style=\"stroke:#e26f46; stroke-linecap:round; stroke-linejoin:round; stroke-width:4; stroke-opacity:1; fill:none\" points=\"1986.01,198.898 2131.58,198.898 \"/>\n",
       "<path clip-path=\"url(#clip890)\" d=\"M2172.35 180.159 L2172.35 183.701 L2168.28 183.701 Q2165.98 183.701 2165.08 184.627 Q2164.2 185.553 2164.2 187.96 L2164.2 190.252 L2171.22 190.252 L2171.22 193.562 L2164.2 193.562 L2164.2 216.178 L2159.92 216.178 L2159.92 193.562 L2155.84 193.562 L2155.84 190.252 L2159.92 190.252 L2159.92 188.446 Q2159.92 184.118 2161.93 182.15 Q2163.95 180.159 2168.32 180.159 L2172.35 180.159 Z\" fill=\"#000000\" fill-rule=\"nonzero\" fill-opacity=\"1\" /><path clip-path=\"url(#clip890)\" d=\"M2189.04 180.159 L2189.04 183.701 L2184.97 183.701 Q2182.67 183.701 2181.77 184.627 Q2180.89 185.553 2180.89 187.96 L2180.89 190.252 L2187.9 190.252 L2187.9 193.562 L2180.89 193.562 L2180.89 216.178 L2176.61 216.178 L2176.61 193.562 L2172.53 193.562 L2172.53 190.252 L2176.61 190.252 L2176.61 188.446 Q2176.61 184.118 2178.62 182.15 Q2180.64 180.159 2185.01 180.159 L2189.04 180.159 Z\" fill=\"#000000\" fill-rule=\"nonzero\" fill-opacity=\"1\" /><path clip-path=\"url(#clip890)\" d=\"M2195.98 182.891 L2195.98 190.252 L2204.76 190.252 L2204.76 193.562 L2195.98 193.562 L2195.98 207.636 Q2195.98 210.807 2196.84 211.71 Q2197.72 212.613 2200.38 212.613 L2204.76 212.613 L2204.76 216.178 L2200.38 216.178 Q2195.45 216.178 2193.58 214.349 Q2191.7 212.497 2191.7 207.636 L2191.7 193.562 L2188.58 193.562 L2188.58 190.252 L2191.7 190.252 L2191.7 182.891 L2195.98 182.891 Z\" fill=\"#000000\" fill-rule=\"nonzero\" fill-opacity=\"1\" /></svg>\n"
      ],
      "text/html": [
       "<?xml version=\"1.0\" encoding=\"utf-8\"?>\n",
       "<svg xmlns=\"http://www.w3.org/2000/svg\" xmlns:xlink=\"http://www.w3.org/1999/xlink\" width=\"600\" height=\"400\" viewBox=\"0 0 2400 1600\">\n",
       "<defs>\n",
       "  <clipPath id=\"clip940\">\n",
       "    <rect x=\"0\" y=\"0\" width=\"2400\" height=\"1600\"/>\n",
       "  </clipPath>\n",
       "</defs>\n",
       "<path clip-path=\"url(#clip940)\" d=\"M0 1600 L2400 1600 L2400 0 L0 0  Z\" fill=\"#ffffff\" fill-rule=\"evenodd\" fill-opacity=\"1\"/>\n",
       "<defs>\n",
       "  <clipPath id=\"clip941\">\n",
       "    <rect x=\"480\" y=\"0\" width=\"1681\" height=\"1600\"/>\n",
       "  </clipPath>\n",
       "</defs>\n",
       "<path clip-path=\"url(#clip940)\" d=\"M169.121 1486.45 L2352.76 1486.45 L2352.76 47.2441 L169.121 47.2441  Z\" fill=\"#ffffff\" fill-rule=\"evenodd\" fill-opacity=\"1\"/>\n",
       "<defs>\n",
       "  <clipPath id=\"clip942\">\n",
       "    <rect x=\"169\" y=\"47\" width=\"2185\" height=\"1440\"/>\n",
       "  </clipPath>\n",
       "</defs>\n",
       "<polyline clip-path=\"url(#clip942)\" style=\"stroke:#000000; stroke-linecap:round; stroke-linejoin:round; stroke-width:2; stroke-opacity:0.1; fill:none\" points=\"230.922,1486.45 230.922,47.2441 \"/>\n",
       "<polyline clip-path=\"url(#clip942)\" style=\"stroke:#000000; stroke-linecap:round; stroke-linejoin:round; stroke-width:2; stroke-opacity:0.1; fill:none\" points=\"745.93,1486.45 745.93,47.2441 \"/>\n",
       "<polyline clip-path=\"url(#clip942)\" style=\"stroke:#000000; stroke-linecap:round; stroke-linejoin:round; stroke-width:2; stroke-opacity:0.1; fill:none\" points=\"1260.94,1486.45 1260.94,47.2441 \"/>\n",
       "<polyline clip-path=\"url(#clip942)\" style=\"stroke:#000000; stroke-linecap:round; stroke-linejoin:round; stroke-width:2; stroke-opacity:0.1; fill:none\" points=\"1775.95,1486.45 1775.95,47.2441 \"/>\n",
       "<polyline clip-path=\"url(#clip942)\" style=\"stroke:#000000; stroke-linecap:round; stroke-linejoin:round; stroke-width:2; stroke-opacity:0.1; fill:none\" points=\"2290.95,1486.45 2290.95,47.2441 \"/>\n",
       "<polyline clip-path=\"url(#clip942)\" style=\"stroke:#000000; stroke-linecap:round; stroke-linejoin:round; stroke-width:2; stroke-opacity:0.1; fill:none\" points=\"169.121,1439.36 2352.76,1439.36 \"/>\n",
       "<polyline clip-path=\"url(#clip942)\" style=\"stroke:#000000; stroke-linecap:round; stroke-linejoin:round; stroke-width:2; stroke-opacity:0.1; fill:none\" points=\"169.121,1227.61 2352.76,1227.61 \"/>\n",
       "<polyline clip-path=\"url(#clip942)\" style=\"stroke:#000000; stroke-linecap:round; stroke-linejoin:round; stroke-width:2; stroke-opacity:0.1; fill:none\" points=\"169.121,1015.85 2352.76,1015.85 \"/>\n",
       "<polyline clip-path=\"url(#clip942)\" style=\"stroke:#000000; stroke-linecap:round; stroke-linejoin:round; stroke-width:2; stroke-opacity:0.1; fill:none\" points=\"169.121,804.099 2352.76,804.099 \"/>\n",
       "<polyline clip-path=\"url(#clip942)\" style=\"stroke:#000000; stroke-linecap:round; stroke-linejoin:round; stroke-width:2; stroke-opacity:0.1; fill:none\" points=\"169.121,592.345 2352.76,592.345 \"/>\n",
       "<polyline clip-path=\"url(#clip942)\" style=\"stroke:#000000; stroke-linecap:round; stroke-linejoin:round; stroke-width:2; stroke-opacity:0.1; fill:none\" points=\"169.121,380.59 2352.76,380.59 \"/>\n",
       "<polyline clip-path=\"url(#clip942)\" style=\"stroke:#000000; stroke-linecap:round; stroke-linejoin:round; stroke-width:2; stroke-opacity:0.1; fill:none\" points=\"169.121,168.836 2352.76,168.836 \"/>\n",
       "<polyline clip-path=\"url(#clip940)\" style=\"stroke:#000000; stroke-linecap:round; stroke-linejoin:round; stroke-width:4; stroke-opacity:1; fill:none\" points=\"169.121,1486.45 2352.76,1486.45 \"/>\n",
       "<polyline clip-path=\"url(#clip940)\" style=\"stroke:#000000; stroke-linecap:round; stroke-linejoin:round; stroke-width:4; stroke-opacity:1; fill:none\" points=\"230.922,1486.45 230.922,1467.55 \"/>\n",
       "<polyline clip-path=\"url(#clip940)\" style=\"stroke:#000000; stroke-linecap:round; stroke-linejoin:round; stroke-width:4; stroke-opacity:1; fill:none\" points=\"745.93,1486.45 745.93,1467.55 \"/>\n",
       "<polyline clip-path=\"url(#clip940)\" style=\"stroke:#000000; stroke-linecap:round; stroke-linejoin:round; stroke-width:4; stroke-opacity:1; fill:none\" points=\"1260.94,1486.45 1260.94,1467.55 \"/>\n",
       "<polyline clip-path=\"url(#clip940)\" style=\"stroke:#000000; stroke-linecap:round; stroke-linejoin:round; stroke-width:4; stroke-opacity:1; fill:none\" points=\"1775.95,1486.45 1775.95,1467.55 \"/>\n",
       "<polyline clip-path=\"url(#clip940)\" style=\"stroke:#000000; stroke-linecap:round; stroke-linejoin:round; stroke-width:4; stroke-opacity:1; fill:none\" points=\"2290.95,1486.45 2290.95,1467.55 \"/>\n",
       "<path clip-path=\"url(#clip940)\" d=\"M208.307 1517.37 Q204.696 1517.37 202.867 1520.93 Q201.061 1524.47 201.061 1531.6 Q201.061 1538.71 202.867 1542.27 Q204.696 1545.82 208.307 1545.82 Q211.941 1545.82 213.746 1542.27 Q215.575 1538.71 215.575 1531.6 Q215.575 1524.47 213.746 1520.93 Q211.941 1517.37 208.307 1517.37 M208.307 1513.66 Q214.117 1513.66 217.172 1518.27 Q220.251 1522.85 220.251 1531.6 Q220.251 1540.33 217.172 1544.94 Q214.117 1549.52 208.307 1549.52 Q202.497 1549.52 199.418 1544.94 Q196.362 1540.33 196.362 1531.6 Q196.362 1522.85 199.418 1518.27 Q202.497 1513.66 208.307 1513.66 Z\" fill=\"#000000\" fill-rule=\"nonzero\" fill-opacity=\"1\" /><path clip-path=\"url(#clip940)\" d=\"M228.469 1542.97 L233.353 1542.97 L233.353 1548.85 L228.469 1548.85 L228.469 1542.97 Z\" fill=\"#000000\" fill-rule=\"nonzero\" fill-opacity=\"1\" /><path clip-path=\"url(#clip940)\" d=\"M253.538 1517.37 Q249.927 1517.37 248.098 1520.93 Q246.293 1524.47 246.293 1531.6 Q246.293 1538.71 248.098 1542.27 Q249.927 1545.82 253.538 1545.82 Q257.172 1545.82 258.978 1542.27 Q260.806 1538.71 260.806 1531.6 Q260.806 1524.47 258.978 1520.93 Q257.172 1517.37 253.538 1517.37 M253.538 1513.66 Q259.348 1513.66 262.404 1518.27 Q265.482 1522.85 265.482 1531.6 Q265.482 1540.33 262.404 1544.94 Q259.348 1549.52 253.538 1549.52 Q247.728 1549.52 244.649 1544.94 Q241.594 1540.33 241.594 1531.6 Q241.594 1522.85 244.649 1518.27 Q247.728 1513.66 253.538 1513.66 Z\" fill=\"#000000\" fill-rule=\"nonzero\" fill-opacity=\"1\" /><path clip-path=\"url(#clip940)\" d=\"M717.667 1544.91 L733.986 1544.91 L733.986 1548.85 L712.042 1548.85 L712.042 1544.91 Q714.704 1542.16 719.287 1537.53 Q723.894 1532.88 725.074 1531.53 Q727.319 1529.01 728.199 1527.27 Q729.102 1525.51 729.102 1523.82 Q729.102 1521.07 727.157 1519.33 Q725.236 1517.6 722.134 1517.6 Q719.935 1517.6 717.482 1518.36 Q715.051 1519.13 712.273 1520.68 L712.273 1515.95 Q715.097 1514.82 717.551 1514.24 Q720.005 1513.66 722.042 1513.66 Q727.412 1513.66 730.606 1516.35 Q733.801 1519.03 733.801 1523.52 Q733.801 1525.65 732.991 1527.57 Q732.204 1529.47 730.097 1532.07 Q729.519 1532.74 726.417 1535.95 Q723.315 1539.15 717.667 1544.91 Z\" fill=\"#000000\" fill-rule=\"nonzero\" fill-opacity=\"1\" /><path clip-path=\"url(#clip940)\" d=\"M743.801 1542.97 L748.685 1542.97 L748.685 1548.85 L743.801 1548.85 L743.801 1542.97 Z\" fill=\"#000000\" fill-rule=\"nonzero\" fill-opacity=\"1\" /><path clip-path=\"url(#clip940)\" d=\"M758.916 1514.29 L777.273 1514.29 L777.273 1518.22 L763.199 1518.22 L763.199 1526.7 Q764.217 1526.35 765.236 1526.19 Q766.254 1526 767.273 1526 Q773.06 1526 776.44 1529.17 Q779.819 1532.34 779.819 1537.76 Q779.819 1543.34 776.347 1546.44 Q772.875 1549.52 766.555 1549.52 Q764.379 1549.52 762.111 1549.15 Q759.866 1548.78 757.458 1548.04 L757.458 1543.34 Q759.541 1544.47 761.764 1545.03 Q763.986 1545.58 766.463 1545.58 Q770.467 1545.58 772.805 1543.48 Q775.143 1541.37 775.143 1537.76 Q775.143 1534.15 772.805 1532.04 Q770.467 1529.94 766.463 1529.94 Q764.588 1529.94 762.713 1530.35 Q760.861 1530.77 758.916 1531.65 L758.916 1514.29 Z\" fill=\"#000000\" fill-rule=\"nonzero\" fill-opacity=\"1\" /><path clip-path=\"url(#clip940)\" d=\"M1228.1 1514.29 L1246.46 1514.29 L1246.46 1518.22 L1232.39 1518.22 L1232.39 1526.7 Q1233.4 1526.35 1234.42 1526.19 Q1235.44 1526 1236.46 1526 Q1242.25 1526 1245.63 1529.17 Q1249.01 1532.34 1249.01 1537.76 Q1249.01 1543.34 1245.53 1546.44 Q1242.06 1549.52 1235.74 1549.52 Q1233.57 1549.52 1231.3 1549.15 Q1229.05 1548.78 1226.64 1548.04 L1226.64 1543.34 Q1228.73 1544.47 1230.95 1545.03 Q1233.17 1545.58 1235.65 1545.58 Q1239.65 1545.58 1241.99 1543.48 Q1244.33 1541.37 1244.33 1537.76 Q1244.33 1534.15 1241.99 1532.04 Q1239.65 1529.94 1235.65 1529.94 Q1233.77 1529.94 1231.9 1530.35 Q1230.05 1530.77 1228.1 1531.65 L1228.1 1514.29 Z\" fill=\"#000000\" fill-rule=\"nonzero\" fill-opacity=\"1\" /><path clip-path=\"url(#clip940)\" d=\"M1258.22 1542.97 L1263.1 1542.97 L1263.1 1548.85 L1258.22 1548.85 L1258.22 1542.97 Z\" fill=\"#000000\" fill-rule=\"nonzero\" fill-opacity=\"1\" /><path clip-path=\"url(#clip940)\" d=\"M1283.29 1517.37 Q1279.68 1517.37 1277.85 1520.93 Q1276.04 1524.47 1276.04 1531.6 Q1276.04 1538.71 1277.85 1542.27 Q1279.68 1545.82 1283.29 1545.82 Q1286.92 1545.82 1288.73 1542.27 Q1290.56 1538.71 1290.56 1531.6 Q1290.56 1524.47 1288.73 1520.93 Q1286.92 1517.37 1283.29 1517.37 M1283.29 1513.66 Q1289.1 1513.66 1292.15 1518.27 Q1295.23 1522.85 1295.23 1531.6 Q1295.23 1540.33 1292.15 1544.94 Q1289.1 1549.52 1283.29 1549.52 Q1277.48 1549.52 1274.4 1544.94 Q1271.34 1540.33 1271.34 1531.6 Q1271.34 1522.85 1274.4 1518.27 Q1277.48 1513.66 1283.29 1513.66 Z\" fill=\"#000000\" fill-rule=\"nonzero\" fill-opacity=\"1\" /><path clip-path=\"url(#clip940)\" d=\"M1742.27 1514.29 L1764.49 1514.29 L1764.49 1516.28 L1751.94 1548.85 L1747.06 1548.85 L1758.86 1518.22 L1742.27 1518.22 L1742.27 1514.29 Z\" fill=\"#000000\" fill-rule=\"nonzero\" fill-opacity=\"1\" /><path clip-path=\"url(#clip940)\" d=\"M1773.61 1542.97 L1778.49 1542.97 L1778.49 1548.85 L1773.61 1548.85 L1773.61 1542.97 Z\" fill=\"#000000\" fill-rule=\"nonzero\" fill-opacity=\"1\" /><path clip-path=\"url(#clip940)\" d=\"M1788.72 1514.29 L1807.08 1514.29 L1807.08 1518.22 L1793.01 1518.22 L1793.01 1526.7 Q1794.03 1526.35 1795.04 1526.19 Q1796.06 1526 1797.08 1526 Q1802.87 1526 1806.25 1529.17 Q1809.63 1532.34 1809.63 1537.76 Q1809.63 1543.34 1806.15 1546.44 Q1802.68 1549.52 1796.36 1549.52 Q1794.19 1549.52 1791.92 1549.15 Q1789.67 1548.78 1787.27 1548.04 L1787.27 1543.34 Q1789.35 1544.47 1791.57 1545.03 Q1793.79 1545.58 1796.27 1545.58 Q1800.28 1545.58 1802.61 1543.48 Q1804.95 1541.37 1804.95 1537.76 Q1804.95 1534.15 1802.61 1532.04 Q1800.28 1529.94 1796.27 1529.94 Q1794.4 1529.94 1792.52 1530.35 Q1790.67 1530.77 1788.72 1531.65 L1788.72 1514.29 Z\" fill=\"#000000\" fill-rule=\"nonzero\" fill-opacity=\"1\" /><path clip-path=\"url(#clip940)\" d=\"M2243.03 1544.91 L2250.67 1544.91 L2250.67 1518.55 L2242.36 1520.21 L2242.36 1515.95 L2250.62 1514.29 L2255.3 1514.29 L2255.3 1544.91 L2262.93 1544.91 L2262.93 1548.85 L2243.03 1548.85 L2243.03 1544.91 Z\" fill=\"#000000\" fill-rule=\"nonzero\" fill-opacity=\"1\" /><path clip-path=\"url(#clip940)\" d=\"M2282.38 1517.37 Q2278.77 1517.37 2276.94 1520.93 Q2275.13 1524.47 2275.13 1531.6 Q2275.13 1538.71 2276.94 1542.27 Q2278.77 1545.82 2282.38 1545.82 Q2286.01 1545.82 2287.82 1542.27 Q2289.65 1538.71 2289.65 1531.6 Q2289.65 1524.47 2287.82 1520.93 Q2286.01 1517.37 2282.38 1517.37 M2282.38 1513.66 Q2288.19 1513.66 2291.24 1518.27 Q2294.32 1522.85 2294.32 1531.6 Q2294.32 1540.33 2291.24 1544.94 Q2288.19 1549.52 2282.38 1549.52 Q2276.57 1549.52 2273.49 1544.94 Q2270.43 1540.33 2270.43 1531.6 Q2270.43 1522.85 2273.49 1518.27 Q2276.57 1513.66 2282.38 1513.66 Z\" fill=\"#000000\" fill-rule=\"nonzero\" fill-opacity=\"1\" /><path clip-path=\"url(#clip940)\" d=\"M2302.54 1542.97 L2307.42 1542.97 L2307.42 1548.85 L2302.54 1548.85 L2302.54 1542.97 Z\" fill=\"#000000\" fill-rule=\"nonzero\" fill-opacity=\"1\" /><path clip-path=\"url(#clip940)\" d=\"M2327.61 1517.37 Q2324 1517.37 2322.17 1520.93 Q2320.36 1524.47 2320.36 1531.6 Q2320.36 1538.71 2322.17 1542.27 Q2324 1545.82 2327.61 1545.82 Q2331.24 1545.82 2333.05 1542.27 Q2334.88 1538.71 2334.88 1531.6 Q2334.88 1524.47 2333.05 1520.93 Q2331.24 1517.37 2327.61 1517.37 M2327.61 1513.66 Q2333.42 1513.66 2336.48 1518.27 Q2339.55 1522.85 2339.55 1531.6 Q2339.55 1540.33 2336.48 1544.94 Q2333.42 1549.52 2327.61 1549.52 Q2321.8 1549.52 2318.72 1544.94 Q2315.67 1540.33 2315.67 1531.6 Q2315.67 1522.85 2318.72 1518.27 Q2321.8 1513.66 2327.61 1513.66 Z\" fill=\"#000000\" fill-rule=\"nonzero\" fill-opacity=\"1\" /><polyline clip-path=\"url(#clip940)\" style=\"stroke:#000000; stroke-linecap:round; stroke-linejoin:round; stroke-width:4; stroke-opacity:1; fill:none\" points=\"169.121,1486.45 169.121,47.2441 \"/>\n",
       "<polyline clip-path=\"url(#clip940)\" style=\"stroke:#000000; stroke-linecap:round; stroke-linejoin:round; stroke-width:4; stroke-opacity:1; fill:none\" points=\"169.121,1439.36 188.019,1439.36 \"/>\n",
       "<polyline clip-path=\"url(#clip940)\" style=\"stroke:#000000; stroke-linecap:round; stroke-linejoin:round; stroke-width:4; stroke-opacity:1; fill:none\" points=\"169.121,1227.61 188.019,1227.61 \"/>\n",
       "<polyline clip-path=\"url(#clip940)\" style=\"stroke:#000000; stroke-linecap:round; stroke-linejoin:round; stroke-width:4; stroke-opacity:1; fill:none\" points=\"169.121,1015.85 188.019,1015.85 \"/>\n",
       "<polyline clip-path=\"url(#clip940)\" style=\"stroke:#000000; stroke-linecap:round; stroke-linejoin:round; stroke-width:4; stroke-opacity:1; fill:none\" points=\"169.121,804.099 188.019,804.099 \"/>\n",
       "<polyline clip-path=\"url(#clip940)\" style=\"stroke:#000000; stroke-linecap:round; stroke-linejoin:round; stroke-width:4; stroke-opacity:1; fill:none\" points=\"169.121,592.345 188.019,592.345 \"/>\n",
       "<polyline clip-path=\"url(#clip940)\" style=\"stroke:#000000; stroke-linecap:round; stroke-linejoin:round; stroke-width:4; stroke-opacity:1; fill:none\" points=\"169.121,380.59 188.019,380.59 \"/>\n",
       "<polyline clip-path=\"url(#clip940)\" style=\"stroke:#000000; stroke-linecap:round; stroke-linejoin:round; stroke-width:4; stroke-opacity:1; fill:none\" points=\"169.121,168.836 188.019,168.836 \"/>\n",
       "<path clip-path=\"url(#clip940)\" d=\"M121.177 1425.16 Q117.566 1425.16 115.737 1428.73 Q113.932 1432.27 113.932 1439.4 Q113.932 1446.5 115.737 1450.07 Q117.566 1453.61 121.177 1453.61 Q124.811 1453.61 126.617 1450.07 Q128.445 1446.5 128.445 1439.4 Q128.445 1432.27 126.617 1428.73 Q124.811 1425.16 121.177 1425.16 M121.177 1421.46 Q126.987 1421.46 130.043 1426.06 Q133.121 1430.65 133.121 1439.4 Q133.121 1448.12 130.043 1452.73 Q126.987 1457.31 121.177 1457.31 Q115.367 1457.31 112.288 1452.73 Q109.233 1448.12 109.233 1439.4 Q109.233 1430.65 112.288 1426.06 Q115.367 1421.46 121.177 1421.46 Z\" fill=\"#000000\" fill-rule=\"nonzero\" fill-opacity=\"1\" /><path clip-path=\"url(#clip940)\" d=\"M85.0429 1240.95 L101.362 1240.95 L101.362 1244.89 L79.4179 1244.89 L79.4179 1240.95 Q82.0799 1238.2 86.6632 1233.57 Q91.2697 1228.92 92.4502 1227.57 Q94.6956 1225.05 95.5752 1223.31 Q96.478 1221.56 96.478 1219.87 Q96.478 1217.11 94.5336 1215.37 Q92.6123 1213.64 89.5104 1213.64 Q87.3114 1213.64 84.8577 1214.4 Q82.4271 1215.17 79.6494 1216.72 L79.6494 1212 Q82.4734 1210.86 84.9271 1210.28 Q87.3808 1209.7 89.4178 1209.7 Q94.7882 1209.7 97.9826 1212.39 Q101.177 1215.07 101.177 1219.56 Q101.177 1221.69 100.367 1223.62 Q99.5798 1225.51 97.4734 1228.11 Q96.8947 1228.78 93.7928 1232 Q90.691 1235.19 85.0429 1240.95 Z\" fill=\"#000000\" fill-rule=\"nonzero\" fill-opacity=\"1\" /><path clip-path=\"url(#clip940)\" d=\"M121.177 1213.41 Q117.566 1213.41 115.737 1216.97 Q113.932 1220.51 113.932 1227.64 Q113.932 1234.75 115.737 1238.31 Q117.566 1241.86 121.177 1241.86 Q124.811 1241.86 126.617 1238.31 Q128.445 1234.75 128.445 1227.64 Q128.445 1220.51 126.617 1216.97 Q124.811 1213.41 121.177 1213.41 M121.177 1209.7 Q126.987 1209.7 130.043 1214.31 Q133.121 1218.89 133.121 1227.64 Q133.121 1236.37 130.043 1240.98 Q126.987 1245.56 121.177 1245.56 Q115.367 1245.56 112.288 1240.98 Q109.233 1236.37 109.233 1227.64 Q109.233 1218.89 112.288 1214.31 Q115.367 1209.7 121.177 1209.7 Z\" fill=\"#000000\" fill-rule=\"nonzero\" fill-opacity=\"1\" /><path clip-path=\"url(#clip940)\" d=\"M93.8623 1002.65 L82.0568 1021.1 L93.8623 1021.1 L93.8623 1002.65 M92.6354 998.574 L98.515 998.574 L98.515 1021.1 L103.446 1021.1 L103.446 1024.99 L98.515 1024.99 L98.515 1033.13 L93.8623 1033.13 L93.8623 1024.99 L78.2605 1024.99 L78.2605 1020.47 L92.6354 998.574 Z\" fill=\"#000000\" fill-rule=\"nonzero\" fill-opacity=\"1\" /><path clip-path=\"url(#clip940)\" d=\"M121.177 1001.65 Q117.566 1001.65 115.737 1005.22 Q113.932 1008.76 113.932 1015.89 Q113.932 1023 115.737 1026.56 Q117.566 1030.1 121.177 1030.1 Q124.811 1030.1 126.617 1026.56 Q128.445 1023 128.445 1015.89 Q128.445 1008.76 126.617 1005.22 Q124.811 1001.65 121.177 1001.65 M121.177 997.949 Q126.987 997.949 130.043 1002.56 Q133.121 1007.14 133.121 1015.89 Q133.121 1024.62 130.043 1029.22 Q126.987 1033.81 121.177 1033.81 Q115.367 1033.81 112.288 1029.22 Q109.233 1024.62 109.233 1015.89 Q109.233 1007.14 112.288 1002.56 Q115.367 997.949 121.177 997.949 Z\" fill=\"#000000\" fill-rule=\"nonzero\" fill-opacity=\"1\" /><path clip-path=\"url(#clip940)\" d=\"M91.5938 802.236 Q88.4456 802.236 86.5938 804.389 Q84.7651 806.542 84.7651 810.292 Q84.7651 814.018 86.5938 816.194 Q88.4456 818.347 91.5938 818.347 Q94.7419 818.347 96.5706 816.194 Q98.4224 814.018 98.4224 810.292 Q98.4224 806.542 96.5706 804.389 Q94.7419 802.236 91.5938 802.236 M100.876 787.583 L100.876 791.843 Q99.1169 791.009 97.3113 790.569 Q95.5289 790.13 93.7697 790.13 Q89.1401 790.13 86.6864 793.255 Q84.2558 796.38 83.9086 802.699 Q85.2743 800.685 87.3345 799.62 Q89.3947 798.532 91.8715 798.532 Q97.0798 798.532 100.089 801.704 Q103.121 804.852 103.121 810.292 Q103.121 815.616 99.9733 818.833 Q96.8252 822.051 91.5938 822.051 Q85.5984 822.051 82.4271 817.467 Q79.2559 812.861 79.2559 804.134 Q79.2559 795.94 83.1447 791.079 Q87.0336 786.194 93.5845 786.194 Q95.3437 786.194 97.1261 786.542 Q98.9317 786.889 100.876 787.583 Z\" fill=\"#000000\" fill-rule=\"nonzero\" fill-opacity=\"1\" /><path clip-path=\"url(#clip940)\" d=\"M121.177 789.898 Q117.566 789.898 115.737 793.463 Q113.932 797.005 113.932 804.134 Q113.932 811.241 115.737 814.805 Q117.566 818.347 121.177 818.347 Q124.811 818.347 126.617 814.805 Q128.445 811.241 128.445 804.134 Q128.445 797.005 126.617 793.463 Q124.811 789.898 121.177 789.898 M121.177 786.194 Q126.987 786.194 130.043 790.801 Q133.121 795.384 133.121 804.134 Q133.121 812.861 130.043 817.467 Q126.987 822.051 121.177 822.051 Q115.367 822.051 112.288 817.467 Q109.233 812.861 109.233 804.134 Q109.233 795.384 112.288 790.801 Q115.367 786.194 121.177 786.194 Z\" fill=\"#000000\" fill-rule=\"nonzero\" fill-opacity=\"1\" /><path clip-path=\"url(#clip940)\" d=\"M91.0151 593.213 Q87.6817 593.213 85.7605 594.995 Q83.8623 596.778 83.8623 599.903 Q83.8623 603.028 85.7605 604.81 Q87.6817 606.592 91.0151 606.592 Q94.3484 606.592 96.2697 604.81 Q98.1909 603.004 98.1909 599.903 Q98.1909 596.778 96.2697 594.995 Q94.3715 593.213 91.0151 593.213 M86.3392 591.222 Q83.3299 590.481 81.6401 588.421 Q79.9735 586.361 79.9735 583.398 Q79.9735 579.255 82.9133 576.847 Q85.8762 574.44 91.0151 574.44 Q96.1771 574.44 99.1169 576.847 Q102.057 579.255 102.057 583.398 Q102.057 586.361 100.367 588.421 Q98.7002 590.481 95.7141 591.222 Q99.0937 592.009 100.969 594.301 Q102.867 596.592 102.867 599.903 Q102.867 604.926 99.7882 607.611 Q96.7326 610.296 91.0151 610.296 Q85.2975 610.296 82.2188 607.611 Q79.1633 604.926 79.1633 599.903 Q79.1633 596.592 81.0614 594.301 Q82.9595 592.009 86.3392 591.222 M84.6262 583.838 Q84.6262 586.523 86.2929 588.028 Q87.9827 589.532 91.0151 589.532 Q94.0243 589.532 95.7141 588.028 Q97.4271 586.523 97.4271 583.838 Q97.4271 581.153 95.7141 579.648 Q94.0243 578.144 91.0151 578.144 Q87.9827 578.144 86.2929 579.648 Q84.6262 581.153 84.6262 583.838 Z\" fill=\"#000000\" fill-rule=\"nonzero\" fill-opacity=\"1\" /><path clip-path=\"url(#clip940)\" d=\"M121.177 578.144 Q117.566 578.144 115.737 581.708 Q113.932 585.25 113.932 592.38 Q113.932 599.486 115.737 603.051 Q117.566 606.592 121.177 606.592 Q124.811 606.592 126.617 603.051 Q128.445 599.486 128.445 592.38 Q128.445 585.25 126.617 581.708 Q124.811 578.144 121.177 578.144 M121.177 574.44 Q126.987 574.44 130.043 579.046 Q133.121 583.63 133.121 592.38 Q133.121 601.106 130.043 605.713 Q126.987 610.296 121.177 610.296 Q115.367 610.296 112.288 605.713 Q109.233 601.106 109.233 592.38 Q109.233 583.63 112.288 579.046 Q115.367 574.44 121.177 574.44 Z\" fill=\"#000000\" fill-rule=\"nonzero\" fill-opacity=\"1\" /><path clip-path=\"url(#clip940)\" d=\"M51.6634 393.935 L59.3023 393.935 L59.3023 367.569 L50.9921 369.236 L50.9921 364.977 L59.256 363.31 L63.9319 363.31 L63.9319 393.935 L71.5707 393.935 L71.5707 397.87 L51.6634 397.87 L51.6634 393.935 Z\" fill=\"#000000\" fill-rule=\"nonzero\" fill-opacity=\"1\" /><path clip-path=\"url(#clip940)\" d=\"M91.0151 366.389 Q87.404 366.389 85.5753 369.954 Q83.7697 373.495 83.7697 380.625 Q83.7697 387.731 85.5753 391.296 Q87.404 394.838 91.0151 394.838 Q94.6493 394.838 96.4548 391.296 Q98.2835 387.731 98.2835 380.625 Q98.2835 373.495 96.4548 369.954 Q94.6493 366.389 91.0151 366.389 M91.0151 362.685 Q96.8252 362.685 99.8808 367.292 Q102.959 371.875 102.959 380.625 Q102.959 389.352 99.8808 393.958 Q96.8252 398.542 91.0151 398.542 Q85.2049 398.542 82.1262 393.958 Q79.0707 389.352 79.0707 380.625 Q79.0707 371.875 82.1262 367.292 Q85.2049 362.685 91.0151 362.685 Z\" fill=\"#000000\" fill-rule=\"nonzero\" fill-opacity=\"1\" /><path clip-path=\"url(#clip940)\" d=\"M121.177 366.389 Q117.566 366.389 115.737 369.954 Q113.932 373.495 113.932 380.625 Q113.932 387.731 115.737 391.296 Q117.566 394.838 121.177 394.838 Q124.811 394.838 126.617 391.296 Q128.445 387.731 128.445 380.625 Q128.445 373.495 126.617 369.954 Q124.811 366.389 121.177 366.389 M121.177 362.685 Q126.987 362.685 130.043 367.292 Q133.121 371.875 133.121 380.625 Q133.121 389.352 130.043 393.958 Q126.987 398.542 121.177 398.542 Q115.367 398.542 112.288 393.958 Q109.233 389.352 109.233 380.625 Q109.233 371.875 112.288 367.292 Q115.367 362.685 121.177 362.685 Z\" fill=\"#000000\" fill-rule=\"nonzero\" fill-opacity=\"1\" /><path clip-path=\"url(#clip940)\" d=\"M51.6634 182.18 L59.3023 182.18 L59.3023 155.815 L50.9921 157.481 L50.9921 153.222 L59.256 151.556 L63.9319 151.556 L63.9319 182.18 L71.5707 182.18 L71.5707 186.116 L51.6634 186.116 L51.6634 182.18 Z\" fill=\"#000000\" fill-rule=\"nonzero\" fill-opacity=\"1\" /><path clip-path=\"url(#clip940)\" d=\"M85.0429 182.18 L101.362 182.18 L101.362 186.116 L79.4179 186.116 L79.4179 182.18 Q82.0799 179.426 86.6632 174.796 Q91.2697 170.143 92.4502 168.801 Q94.6956 166.278 95.5752 164.542 Q96.478 162.782 96.478 161.093 Q96.478 158.338 94.5336 156.602 Q92.6123 154.866 89.5104 154.866 Q87.3114 154.866 84.8577 155.63 Q82.4271 156.394 79.6494 157.944 L79.6494 153.222 Q82.4734 152.088 84.9271 151.509 Q87.3808 150.931 89.4178 150.931 Q94.7882 150.931 97.9826 153.616 Q101.177 156.301 101.177 160.792 Q101.177 162.921 100.367 164.843 Q99.5798 166.741 97.4734 169.333 Q96.8947 170.005 93.7928 173.222 Q90.691 176.417 85.0429 182.18 Z\" fill=\"#000000\" fill-rule=\"nonzero\" fill-opacity=\"1\" /><path clip-path=\"url(#clip940)\" d=\"M121.177 154.634 Q117.566 154.634 115.737 158.199 Q113.932 161.741 113.932 168.87 Q113.932 175.977 115.737 179.542 Q117.566 183.083 121.177 183.083 Q124.811 183.083 126.617 179.542 Q128.445 175.977 128.445 168.87 Q128.445 161.741 126.617 158.199 Q124.811 154.634 121.177 154.634 M121.177 150.931 Q126.987 150.931 130.043 155.537 Q133.121 160.12 133.121 168.87 Q133.121 177.597 130.043 182.204 Q126.987 186.787 121.177 186.787 Q115.367 186.787 112.288 182.204 Q109.233 177.597 109.233 168.87 Q109.233 160.12 112.288 155.537 Q115.367 150.931 121.177 150.931 Z\" fill=\"#000000\" fill-rule=\"nonzero\" fill-opacity=\"1\" /><polyline clip-path=\"url(#clip942)\" style=\"stroke:#009af9; stroke-linecap:round; stroke-linejoin:round; stroke-width:4; stroke-opacity:1; fill:none\" points=\"230.922,1435.13 239.001,1427.65 247.079,1424.54 255.158,1427.62 263.237,1435.08 271.315,1442.57 279.394,1445.72 287.472,1442.67 295.551,1435.22 303.629,1427.71 311.708,1424.54 319.786,1427.55 327.865,1434.99 335.944,1442.51 344.022,1445.71 352.101,1442.74 360.179,1435.31 368.258,1427.78 376.336,1424.54 384.415,1427.49 392.493,1434.9 400.572,1442.44 408.651,1445.71 416.729,1442.8 424.808,1435.4 432.886,1427.85 440.965,1424.54 449.043,1427.43 457.122,1434.81 465.201,1442.38 473.279,1445.71 481.358,1442.86 489.436,1435.5 497.515,1427.91 505.593,1424.55 513.672,1427.36 521.75,1434.71 529.829,1442.31 537.908,1445.71 545.986,1442.92 554.065,1435.59 562.143,1427.98 570.222,1424.55 578.3,1427.3 586.379,1434.62 594.457,1442.24 602.536,1445.7 610.615,1442.99 618.693,1435.68 626.772,1428.05 634.85,1424.56 642.929,1427.24 651.007,1434.53 659.086,1442.17 667.164,1445.7 675.243,1443.05 683.322,1435.77 691.4,1428.12 699.479,1424.56 707.557,1427.18 715.636,1434.44 723.714,1442.1 731.793,1445.69 739.872,1443.11 747.95,1435.86 756.029,1428.19 764.107,1424.57 772.186,1427.12 780.264,1434.35 788.343,1442.03 796.421,1445.69 804.5,1443.17 812.579,1435.95 820.657,1428.26 828.736,1424.57 836.814,1427.06 844.893,1434.26 852.971,1441.96 861.05,1445.68 869.128,1443.23 877.207,1436.05 885.286,1428.33 893.364,1424.58 901.443,1427 909.521,1434.17 917.6,1441.89 925.678,1445.67 933.757,1443.29 941.836,1436.14 949.914,1428.4 957.993,1424.59 966.071,1426.94 974.15,1434.07 982.228,1441.82 990.307,1445.66 998.385,1443.35 1006.46,1436.23 1014.54,1428.47 1022.62,1424.6 1030.7,1426.88 1038.78,1433.98 1046.86,1441.75 1054.94,1445.65 1063.01,1443.4 1071.09,1436.32 1079.17,1428.54 1087.25,1424.61 1095.33,1426.83 1103.41,1433.89 1111.49,1441.68 1119.56,1445.64 1127.64,1443.46 1135.72,1436.41 1143.8,1428.61 1151.88,1424.62 1159.96,1426.77 1168.04,1433.8 1176.11,1441.61 1184.19,1445.63 1192.27,1443.52 1200.35,1436.5 1208.43,1428.69 1216.51,1424.63 1224.59,1426.71 1232.66,1433.71 1240.74,1441.53 1248.82,1445.62 1256.9,1443.57 1264.98,1436.59 1273.06,1428.76 1281.14,1424.65 1289.21,1426.66 1297.29,1433.62 1305.37,1441.46 1313.45,1445.6 1321.53,1443.63 1329.61,1436.68 1337.68,1428.83 1345.76,1424.66 1353.84,1426.6 1361.92,1433.53 1370,1441.39 1378.08,1445.59 1386.16,1443.68 1394.23,1436.77 1402.31,1428.91 1410.39,1424.67 1418.47,1426.55 1426.55,1433.44 1434.63,1441.31 1442.71,1445.58 1450.78,1443.74 1458.86,1436.87 1466.94,1428.98 1475.02,1424.69 1483.1,1426.49 1491.18,1433.35 1499.26,1441.24 1507.33,1445.56 1515.41,1443.79 1523.49,1436.96 1531.57,1429.06 1539.65,1424.7 1547.73,1426.44 1555.81,1433.26 1563.88,1441.16 1571.96,1445.54 1580.04,1443.84 1588.12,1437.05 1596.2,1429.13 1604.28,1424.72 1612.36,1426.39 1620.43,1433.16 1628.51,1441.09 1636.59,1445.53 1644.67,1443.89 1652.75,1437.14 1660.83,1429.21 1668.91,1424.74 1676.98,1426.34 1685.06,1433.07 1693.14,1441.01 1701.22,1445.51 1709.3,1443.94 1717.38,1437.23 1725.46,1429.28 1733.53,1424.76 1741.61,1426.29 1749.69,1432.98 1757.77,1440.93 1765.85,1445.49 1773.93,1443.99 1782.01,1437.32 1790.08,1429.36 1798.16,1424.77 1806.24,1426.24 1814.32,1432.89 1822.4,1440.86 1830.48,1445.47 1838.56,1444.04 1846.63,1437.41 1854.71,1429.44 1862.79,1424.79 1870.87,1426.19 1878.95,1432.8 1887.03,1440.78 1895.11,1445.45 1903.18,1444.09 1911.26,1437.5 1919.34,1429.52 1927.42,1424.81 1935.5,1426.14 1943.58,1432.72 1951.66,1440.7 1959.73,1445.43 1967.81,1444.14 1975.89,1437.59 1983.97,1429.59 1992.05,1424.83 2000.13,1426.09 2008.21,1432.63 2016.28,1440.62 2024.36,1445.41 2032.44,1444.19 2040.52,1437.67 2048.6,1429.67 2056.68,1424.86 2064.76,1426.04 2072.83,1432.54 2080.91,1440.55 2088.99,1445.39 2097.07,1444.24 2105.15,1437.76 2113.23,1429.75 2121.31,1424.88 2129.38,1426 2137.46,1432.45 2145.54,1440.47 2153.62,1445.37 2161.7,1444.28 2169.78,1437.85 2177.86,1429.83 2185.93,1424.9 2194.01,1425.95 2202.09,1432.36 2210.17,1440.39 2218.25,1445.34 2226.33,1444.33 2234.41,1437.94 2242.48,1429.91 2250.56,1424.93 2258.64,1425.9 2266.72,1432.27 2274.8,1440.31 2282.88,1445.32 2290.95,1444.37 \"/>\n",
       "<polyline clip-path=\"url(#clip942)\" style=\"stroke:#e26f46; stroke-linecap:round; stroke-linejoin:round; stroke-width:4; stroke-opacity:1; fill:none\" points=\"230.922,1438 239.001,1438 247.079,1438 255.158,1437.99 263.237,1437.99 271.315,1437.99 279.394,1437.99 287.472,1437.99 295.551,1437.99 303.629,1437.98 311.708,1437.98 319.786,1437.98 327.865,1437.98 335.944,1437.97 344.022,1437.97 352.101,1437.96 360.179,1437.96 368.258,1437.95 376.336,1437.95 384.415,1437.94 392.493,1437.94 400.572,1437.93 408.651,1437.92 416.729,1437.92 424.808,1437.91 432.886,1437.9 440.965,1437.89 449.043,1437.88 457.122,1437.87 465.201,1437.86 473.279,1437.85 481.358,1437.84 489.436,1437.83 497.515,1437.82 505.593,1437.81 513.672,1437.79 521.75,1437.78 529.829,1437.77 537.908,1437.75 545.986,1437.74 554.065,1437.72 562.143,1437.7 570.222,1437.69 578.3,1437.67 586.379,1437.65 594.457,1437.63 602.536,1437.61 610.615,1437.58 618.693,1437.56 626.772,1437.54 634.85,1437.51 642.929,1437.48 651.007,1437.45 659.086,1437.42 667.164,1437.39 675.243,1437.36 683.322,1437.33 691.4,1437.29 699.479,1437.25 707.557,1437.21 715.636,1437.17 723.714,1437.12 731.793,1437.07 739.872,1437.02 747.95,1436.96 756.029,1436.9 764.107,1436.84 772.186,1436.77 780.264,1436.7 788.343,1436.62 796.421,1436.54 804.5,1436.45 812.579,1436.35 820.657,1436.24 828.736,1436.13 836.814,1436 844.893,1435.86 852.971,1435.7 861.05,1435.53 869.128,1435.34 877.207,1435.12 885.286,1434.87 893.364,1434.59 901.443,1434.27 909.521,1433.89 917.6,1433.44 925.678,1432.9 933.757,1432.25 941.836,1431.43 949.914,1430.37 957.993,1428.97 966.071,1427.02 974.15,1424.09 982.228,1419.25 990.307,1409.66 998.385,1381.69 1006.46,87.9763 1014.54,1377.42 1022.62,1409.35 1030.7,1419.67 1038.78,1424.77 1046.86,1427.81 1054.94,1429.83 1063.01,1431.27 1071.09,1432.34 1079.17,1433.17 1087.25,1433.83 1095.33,1434.38 1103.41,1434.82 1111.49,1435.2 1119.56,1435.52 1127.64,1435.8 1135.72,1436.04 1143.8,1436.24 1151.88,1436.42 1159.96,1436.58 1168.04,1436.72 1176.11,1436.85 1184.19,1436.96 1192.27,1437.05 1200.35,1437.13 1208.43,1437.2 1216.51,1437.26 1224.59,1437.31 1232.66,1437.35 1240.74,1437.38 1248.82,1437.4 1256.9,1437.42 1264.98,353.239 1273.06,1437.42 1281.14,1437.4 1289.21,1437.38 1297.29,1437.35 1305.37,1437.31 1313.45,1437.26 1321.53,1437.2 1329.61,1437.13 1337.68,1437.05 1345.76,1436.96 1353.84,1436.85 1361.92,1436.72 1370,1436.58 1378.08,1436.42 1386.16,1436.24 1394.23,1436.04 1402.31,1435.8 1410.39,1435.52 1418.47,1435.2 1426.55,1434.82 1434.63,1434.38 1442.71,1433.83 1450.78,1433.17 1458.86,1432.34 1466.94,1431.27 1475.02,1429.83 1483.1,1427.81 1491.18,1424.77 1499.26,1419.67 1507.33,1409.35 1515.41,1377.42 1523.49,87.9763 1531.57,1381.69 1539.65,1409.66 1547.73,1419.25 1555.81,1424.09 1563.88,1427.02 1571.96,1428.97 1580.04,1430.37 1588.12,1431.43 1596.2,1432.25 1604.28,1432.9 1612.36,1433.44 1620.43,1433.89 1628.51,1434.27 1636.59,1434.59 1644.67,1434.87 1652.75,1435.12 1660.83,1435.34 1668.91,1435.53 1676.98,1435.7 1685.06,1435.86 1693.14,1436 1701.22,1436.13 1709.3,1436.24 1717.38,1436.35 1725.46,1436.45 1733.53,1436.54 1741.61,1436.62 1749.69,1436.7 1757.77,1436.77 1765.85,1436.84 1773.93,1436.9 1782.01,1436.96 1790.08,1437.02 1798.16,1437.07 1806.24,1437.12 1814.32,1437.17 1822.4,1437.21 1830.48,1437.25 1838.56,1437.29 1846.63,1437.33 1854.71,1437.36 1862.79,1437.39 1870.87,1437.42 1878.95,1437.45 1887.03,1437.48 1895.11,1437.51 1903.18,1437.54 1911.26,1437.56 1919.34,1437.58 1927.42,1437.61 1935.5,1437.63 1943.58,1437.65 1951.66,1437.67 1959.73,1437.69 1967.81,1437.7 1975.89,1437.72 1983.97,1437.74 1992.05,1437.75 2000.13,1437.77 2008.21,1437.78 2016.28,1437.79 2024.36,1437.81 2032.44,1437.82 2040.52,1437.83 2048.6,1437.84 2056.68,1437.85 2064.76,1437.86 2072.83,1437.87 2080.91,1437.88 2088.99,1437.89 2097.07,1437.9 2105.15,1437.91 2113.23,1437.92 2121.31,1437.92 2129.38,1437.93 2137.46,1437.94 2145.54,1437.94 2153.62,1437.95 2161.7,1437.95 2169.78,1437.96 2177.86,1437.96 2185.93,1437.97 2194.01,1437.97 2202.09,1437.98 2210.17,1437.98 2218.25,1437.98 2226.33,1437.98 2234.41,1437.99 2242.48,1437.99 2250.56,1437.99 2258.64,1437.99 2266.72,1437.99 2274.8,1437.99 2282.88,1438 2290.95,1438 \"/>\n",
       "<path clip-path=\"url(#clip940)\" d=\"M1961.74 250.738 L2279.97 250.738 L2279.97 95.2176 L1961.74 95.2176  Z\" fill=\"#ffffff\" fill-rule=\"evenodd\" fill-opacity=\"1\"/>\n",
       "<polyline clip-path=\"url(#clip940)\" style=\"stroke:#000000; stroke-linecap:round; stroke-linejoin:round; stroke-width:4; stroke-opacity:1; fill:none\" points=\"1961.74,250.738 2279.97,250.738 2279.97,95.2176 1961.74,95.2176 1961.74,250.738 \"/>\n",
       "<polyline clip-path=\"url(#clip940)\" style=\"stroke:#009af9; stroke-linecap:round; stroke-linejoin:round; stroke-width:4; stroke-opacity:1; fill:none\" points=\"1986.01,147.058 2131.58,147.058 \"/>\n",
       "<path clip-path=\"url(#clip940)\" d=\"M2174.76 142.347 L2174.76 128.319 L2179.02 128.319 L2179.02 164.338 L2174.76 164.338 L2174.76 160.449 Q2173.41 162.763 2171.35 163.898 Q2169.32 165.009 2166.45 165.009 Q2161.75 165.009 2158.78 161.259 Q2155.84 157.509 2155.84 151.398 Q2155.84 145.287 2158.78 141.537 Q2161.75 137.787 2166.45 137.787 Q2169.32 137.787 2171.35 138.921 Q2173.41 140.032 2174.76 142.347 M2160.24 151.398 Q2160.24 156.097 2162.16 158.782 Q2164.11 161.444 2167.49 161.444 Q2170.87 161.444 2172.81 158.782 Q2174.76 156.097 2174.76 151.398 Q2174.76 146.699 2172.81 144.037 Q2170.87 141.352 2167.49 141.352 Q2164.11 141.352 2162.16 144.037 Q2160.24 146.699 2160.24 151.398 Z\" fill=\"#000000\" fill-rule=\"nonzero\" fill-opacity=\"1\" /><path clip-path=\"url(#clip940)\" d=\"M2199.57 151.305 Q2194.41 151.305 2192.42 152.486 Q2190.43 153.666 2190.43 156.514 Q2190.43 158.782 2191.91 160.125 Q2193.41 161.444 2195.98 161.444 Q2199.53 161.444 2201.65 158.944 Q2203.81 156.421 2203.81 152.254 L2203.81 151.305 L2199.57 151.305 M2208.07 149.546 L2208.07 164.338 L2203.81 164.338 L2203.81 160.402 Q2202.35 162.763 2200.17 163.898 Q2198 165.009 2194.85 165.009 Q2190.87 165.009 2188.51 162.787 Q2186.17 160.541 2186.17 156.791 Q2186.17 152.416 2189.09 150.194 Q2192.03 147.972 2197.84 147.972 L2203.81 147.972 L2203.81 147.555 Q2203.81 144.615 2201.86 143.018 Q2199.94 141.398 2196.45 141.398 Q2194.22 141.398 2192.12 141.93 Q2190.01 142.463 2188.07 143.527 L2188.07 139.592 Q2190.4 138.69 2192.6 138.25 Q2194.8 137.787 2196.89 137.787 Q2202.51 137.787 2205.29 140.703 Q2208.07 143.62 2208.07 149.546 Z\" fill=\"#000000\" fill-rule=\"nonzero\" fill-opacity=\"1\" /><path clip-path=\"url(#clip940)\" d=\"M2221.05 131.051 L2221.05 138.412 L2229.83 138.412 L2229.83 141.722 L2221.05 141.722 L2221.05 155.796 Q2221.05 158.967 2221.91 159.87 Q2222.79 160.773 2225.45 160.773 L2229.83 160.773 L2229.83 164.338 L2225.45 164.338 Q2220.52 164.338 2218.65 162.509 Q2216.77 160.657 2216.77 155.796 L2216.77 141.722 L2213.65 141.722 L2213.65 138.412 L2216.77 138.412 L2216.77 131.051 L2221.05 131.051 Z\" fill=\"#000000\" fill-rule=\"nonzero\" fill-opacity=\"1\" /><path clip-path=\"url(#clip940)\" d=\"M2247.21 151.305 Q2242.05 151.305 2240.06 152.486 Q2238.07 153.666 2238.07 156.514 Q2238.07 158.782 2239.55 160.125 Q2241.05 161.444 2243.62 161.444 Q2247.16 161.444 2249.29 158.944 Q2251.45 156.421 2251.45 152.254 L2251.45 151.305 L2247.21 151.305 M2255.71 149.546 L2255.71 164.338 L2251.45 164.338 L2251.45 160.402 Q2249.99 162.763 2247.81 163.898 Q2245.64 165.009 2242.49 165.009 Q2238.51 165.009 2236.15 162.787 Q2233.81 160.541 2233.81 156.791 Q2233.81 152.416 2236.72 150.194 Q2239.66 147.972 2245.47 147.972 L2251.45 147.972 L2251.45 147.555 Q2251.45 144.615 2249.5 143.018 Q2247.58 141.398 2244.09 141.398 Q2241.86 141.398 2239.76 141.93 Q2237.65 142.463 2235.71 143.527 L2235.71 139.592 Q2238.04 138.69 2240.24 138.25 Q2242.44 137.787 2244.52 137.787 Q2250.15 137.787 2252.93 140.703 Q2255.71 143.62 2255.71 149.546 Z\" fill=\"#000000\" fill-rule=\"nonzero\" fill-opacity=\"1\" /><polyline clip-path=\"url(#clip940)\" style=\"stroke:#e26f46; stroke-linecap:round; stroke-linejoin:round; stroke-width:4; stroke-opacity:1; fill:none\" points=\"1986.01,198.898 2131.58,198.898 \"/>\n",
       "<path clip-path=\"url(#clip940)\" d=\"M2172.35 180.159 L2172.35 183.701 L2168.28 183.701 Q2165.98 183.701 2165.08 184.627 Q2164.2 185.553 2164.2 187.96 L2164.2 190.252 L2171.22 190.252 L2171.22 193.562 L2164.2 193.562 L2164.2 216.178 L2159.92 216.178 L2159.92 193.562 L2155.84 193.562 L2155.84 190.252 L2159.92 190.252 L2159.92 188.446 Q2159.92 184.118 2161.93 182.15 Q2163.95 180.159 2168.32 180.159 L2172.35 180.159 Z\" fill=\"#000000\" fill-rule=\"nonzero\" fill-opacity=\"1\" /><path clip-path=\"url(#clip940)\" d=\"M2189.04 180.159 L2189.04 183.701 L2184.97 183.701 Q2182.67 183.701 2181.77 184.627 Q2180.89 185.553 2180.89 187.96 L2180.89 190.252 L2187.9 190.252 L2187.9 193.562 L2180.89 193.562 L2180.89 216.178 L2176.61 216.178 L2176.61 193.562 L2172.53 193.562 L2172.53 190.252 L2176.61 190.252 L2176.61 188.446 Q2176.61 184.118 2178.62 182.15 Q2180.64 180.159 2185.01 180.159 L2189.04 180.159 Z\" fill=\"#000000\" fill-rule=\"nonzero\" fill-opacity=\"1\" /><path clip-path=\"url(#clip940)\" d=\"M2195.98 182.891 L2195.98 190.252 L2204.76 190.252 L2204.76 193.562 L2195.98 193.562 L2195.98 207.636 Q2195.98 210.807 2196.84 211.71 Q2197.72 212.613 2200.38 212.613 L2204.76 212.613 L2204.76 216.178 L2200.38 216.178 Q2195.45 216.178 2193.58 214.349 Q2191.7 212.497 2191.7 207.636 L2191.7 193.562 L2188.58 193.562 L2188.58 190.252 L2191.7 190.252 L2191.7 182.891 L2195.98 182.891 Z\" fill=\"#000000\" fill-rule=\"nonzero\" fill-opacity=\"1\" /></svg>\n"
      ]
     },
     "metadata": {},
     "output_type": "display_data"
    }
   ],
   "source": [
    "N = 2^8\n",
    "amk = Array{Any}(undef, N)\n",
    "z::Vector{Float64} = LinRange(0, 10, N)\n",
    "m = 20\n",
    "b = 0.4\n",
    "# x = 0:0.1:10\n",
    "noise = randn(length(z))\n",
    "y = @. sin(m*z) + b \n",
    "y_fft = abs.(fftshift(fft(y)))\n",
    "\n",
    "\n",
    "\n",
    "\n",
    "plot(z, y, label=\"data\")\n",
    "plot!(z, y_fft, label=\"fft\")"
   ]
  },
  {
   "cell_type": "code",
   "execution_count": 19,
   "metadata": {},
   "outputs": [
    {
     "ename": "UndefVarError",
     "evalue": "UndefVarError: `Model` not defined in `Main`\nSuggestion: check for spelling errors or missing imports.",
     "output_type": "error",
     "traceback": [
      "UndefVarError: `Model` not defined in `Main`\n",
      "Suggestion: check for spelling errors or missing imports.\n",
      "\n",
      "Stacktrace:\n",
      " [1] top-level scope\n",
      "   @ ~/Desktop/julia_functions/jl_notebook_cell_df34fa98e69747e1a8f8a730347b8e2f_X22sZmlsZQ==.jl:1"
     ]
    }
   ],
   "source": [
    "model = Model(Ipopt.Optimizer)\n",
    "set_silent(model)\n",
    "ConstraintFunc = MinimizingFunc(z, y_fft)\n",
    "\n",
    "q = @variable(model, start=m)\n",
    "p = @variable(model, start=b)\n",
    "# ams = @expression(model, ConstraintFunc(φ))\n",
    "\n",
    "# @constraint(model, ams[1] == ams[2])\n",
    "\n",
    "\n",
    "@objective(model, Min, ConstraintFunc(q,p))\n",
    "optimize!(model)"
   ]
  },
  {
   "cell_type": "code",
   "execution_count": 20,
   "metadata": {},
   "outputs": [
    {
     "ename": "UndefVarError",
     "evalue": "UndefVarError: `value` not defined in `Main`\nSuggestion: check for spelling errors or missing imports.",
     "output_type": "error",
     "traceback": [
      "UndefVarError: `value` not defined in `Main`\n",
      "Suggestion: check for spelling errors or missing imports.\n",
      "\n",
      "Stacktrace:\n",
      " [1] top-level scope\n",
      "   @ ~/Desktop/julia_functions/jl_notebook_cell_df34fa98e69747e1a8f8a730347b8e2f_X23sZmlsZQ==.jl:1"
     ]
    }
   ],
   "source": [
    "q_sol = value(q)\n",
    "p_sol = value(p)\n",
    "println(\"Solution:\")\n",
    "println(\"q = \", q_sol)\n",
    "println(\"p = \", p_sol)\n",
    "model_fit = @. sin(q_sol*z) + .1\n",
    "model_fit_fft = abs.(fftshift(fft(model_fit)))\n",
    "plot(z, model_fit_fft, label=\"model fit\", linestyle=:dash)\n",
    "plot!(z, y_fft, label=\"fft\")\n"
   ]
  }
 ],
 "metadata": {
  "kernelspec": {
   "display_name": "Julia 1.11.2",
   "language": "julia",
   "name": "julia-1.11"
  },
  "language_info": {
   "file_extension": ".jl",
   "mimetype": "application/julia",
   "name": "julia",
   "version": "1.11.2"
  }
 },
 "nbformat": 4,
 "nbformat_minor": 2
}
